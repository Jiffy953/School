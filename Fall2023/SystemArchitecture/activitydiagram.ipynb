{
 "cells": [
  {
   "cell_type": "code",
   "execution_count": 32,
   "metadata": {},
   "outputs": [
    {
     "name": "stdout",
     "output_type": "stream",
     "text": [
      "// Dentist Office System\n",
      "digraph {\n",
      "\tA [label=\"\" shape=circle]\n",
      "\tB [label=\"Patient Calls for Appointment\" shape=rect style=rounded]\n",
      "\tC [label=\"Check Appointment File\" shape=rect style=rounded]\n",
      "\tD [label=\"Schedule Appointment\" shape=rect style=rounded]\n",
      "\tE [label=\"Send Reminder Postcard\" shape=rect style=rounded]\n",
      "\tF [label=\"New Patient Check\" shape=diamond]\n",
      "\tG [label=\"Make Incomplete Entry in Patient File\" shape=rect style=rounded]\n",
      "\tH [label=\"New Patient Arrival for First Appointment\" shape=diamond]\n",
      "\tI [label=\"Fill Patient Information Form\" shape=rect style=rounded]\n",
      "\tJ [label=\"Store Information in Patient File\" shape=rect style=rounded]\n",
      "\tK_outer [label=\"\" shape=doublecircle]\n",
      "\tA -> B\n",
      "\tB -> C\n",
      "\tC -> D\n",
      "\tD -> E\n",
      "\tE -> F\n",
      "\tF -> G [label=\"New Patient\"]\n",
      "\tF -> K_outer [label=\"Existing Patient\"]\n",
      "\tG -> H\n",
      "\tH -> I\n",
      "\tI -> J\n",
      "\tJ -> K_outer\n",
      "}\n",
      "\n"
     ]
    },
    {
     "data": {
      "text/plain": [
       "'dentist_office_system.pdf'"
      ]
     },
     "execution_count": 32,
     "metadata": {},
     "output_type": "execute_result"
    }
   ],
   "source": [
    "from graphviz import Digraph\n",
    "\n",
    "dot = Digraph(comment='Dentist Office System', engine='dot')\n",
    "\n",
    "dot.node('A', shape='circle', label='')\n",
    "dot.node('B', label='Patient Calls for Appointment', shape='rect', style='rounded')\n",
    "dot.node('C', label='Check Appointment File', shape='rect', style='rounded')\n",
    "dot.node('D', label='Schedule Appointment', shape='rect', style='rounded')\n",
    "dot.node('E', label='Send Reminder Postcard', shape='rect', style='rounded')\n",
    "dot.node('F', label='New Patient Check', shape='diamond')\n",
    "dot.node('G', label='Make Incomplete Entry in Patient File', shape='rect', style='rounded')\n",
    "dot.node('H', label='New Patient Arrival for First Appointment', shape='diamond')\n",
    "dot.node('I', label='Fill Patient Information Form', shape='rect', style='rounded')\n",
    "dot.node('J', label='Store Information in Patient File', shape='rect', style='rounded')\n",
    "dot.node('K_outer', shape='doublecircle', label='')  # Outer double circle\n",
    "\n",
    "dot.edge('A', 'B')\n",
    "dot.edge('B', 'C')\n",
    "dot.edge('C', 'D')\n",
    "dot.edge('D', 'E')\n",
    "dot.edge('E', 'F')\n",
    "dot.edge('F', 'G', label='New Patient')\n",
    "dot.edge('F', 'K_outer', label='Existing Patient')\n",
    "dot.edge('G', 'H')\n",
    "dot.edge('H', 'I',)\n",
    "dot.edge('I', 'J')\n",
    "dot.edge('J', 'K_outer')\n",
    "\n",
    "print(dot.source)\n",
    "\n",
    "dot.render('dentist_office_system', view=True)\n"
   ]
  }
 ],
 "metadata": {
  "kernelspec": {
   "display_name": "Python 3",
   "language": "python",
   "name": "python3"
  },
  "language_info": {
   "codemirror_mode": {
    "name": "ipython",
    "version": 3
   },
   "file_extension": ".py",
   "mimetype": "text/x-python",
   "name": "python",
   "nbconvert_exporter": "python",
   "pygments_lexer": "ipython3",
   "version": "3.11.6"
  }
 },
 "nbformat": 4,
 "nbformat_minor": 2
}
