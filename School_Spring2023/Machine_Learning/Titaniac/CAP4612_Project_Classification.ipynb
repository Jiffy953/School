{
  "cells": [
    {
      "cell_type": "markdown",
      "metadata": {
        "id": "lbOytv4mz_lx"
      },
      "source": [
        "# Project - Classification - Titanic"
      ]
    },
    {
      "cell_type": "markdown",
      "metadata": {
        "id": "OAGbgOa8z_ly"
      },
      "source": [
        "The goal is to predict whether or not a passenger survived based on attributes such as their age, sex, passenger class, where they embarked and so on.\n",
        "\n",
        "\n"
      ]
    },
    {
      "cell_type": "markdown",
      "metadata": {
        "id": "wYRaIawfz_l0"
      },
      "source": [
        "#### Downloaded the data (train.csv and test.csv files) from Kaggle and then upload them on your Colab or put into the same directory on your computer. Then use the first code block below to read them.\n",
        "- To download the files, login to [Kaggle](https://www.kaggle.com/) and go to the [Titanic challenge](https://www.kaggle.com/c/titanic)\n"
      ]
    },
    {
      "cell_type": "markdown",
      "metadata": {
        "id": "6ucl-YDyF9yu"
      },
      "source": [
        "Read the train and test data from the csv files:"
      ]
    },
    {
      "cell_type": "code",
      "execution_count": 83,
      "metadata": {
        "id": "a5Eb5SNhz_l6"
      },
      "outputs": [
        {
          "data": {
            "text/plain": [
              "0       892\n",
              "1       893\n",
              "2       894\n",
              "3       895\n",
              "4       896\n",
              "       ... \n",
              "413    1305\n",
              "414    1306\n",
              "415    1307\n",
              "416    1308\n",
              "417    1309\n",
              "Name: PassengerId, Length: 418, dtype: int64"
            ]
          },
          "execution_count": 83,
          "metadata": {},
          "output_type": "execute_result"
        }
      ],
      "source": [
        "import pandas as pd\n",
        "\n",
        "train_csv_path = \"train.csv\"\n",
        "test_csv_path = \"test.csv\"\n",
        "\n",
        "train_data = pd.read_csv(train_csv_path)\n",
        "test_data = pd.read_csv(test_csv_path)\n",
        "\n"
      ]
    },
    {
      "cell_type": "markdown",
      "metadata": {
        "id": "uPi2qvhJGmN3"
      },
      "source": [
        "\n",
        "#### The attributes and their meaning are as follows:\n",
        "- Survived: that's the target, 0 means the passenger did not survive, while 1 means he/she survived.\n",
        "- Pclass: passenger class.\n",
        "- Name, Sex, Age: self-explanatory\n",
        "- SibSp: how many siblings & spouses of the passenger aboard the Titanic.\n",
        "- Parch: how many children & parents of the passenger aboard the Titanic.\n",
        "- Ticket: ticket id\n",
        "- Fare: price paid (in pounds)\n",
        "- Cabin: passenger's cabin number\n",
        "- Embarked: where the passenger embarked the Titanic\n"
      ]
    },
    {
      "cell_type": "markdown",
      "metadata": {
        "id": "ITHUFCh_XHst"
      },
      "source": [
        "### Use head, tail, info, describe methods to get insights about the data"
      ]
    },
    {
      "cell_type": "code",
      "execution_count": 2,
      "metadata": {
        "colab": {
          "base_uri": "https://localhost:8080/",
          "height": 548
        },
        "id": "n3hRcRB-GrCq",
        "outputId": "51d1361a-5973-499e-c3c2-1445c4528741"
      },
      "outputs": [
        {
          "data": {
            "text/html": [
              "<div>\n",
              "<style scoped>\n",
              "    .dataframe tbody tr th:only-of-type {\n",
              "        vertical-align: middle;\n",
              "    }\n",
              "\n",
              "    .dataframe tbody tr th {\n",
              "        vertical-align: top;\n",
              "    }\n",
              "\n",
              "    .dataframe thead th {\n",
              "        text-align: right;\n",
              "    }\n",
              "</style>\n",
              "<table border=\"1\" class=\"dataframe\">\n",
              "  <thead>\n",
              "    <tr style=\"text-align: right;\">\n",
              "      <th></th>\n",
              "      <th>PassengerId</th>\n",
              "      <th>Survived</th>\n",
              "      <th>Pclass</th>\n",
              "      <th>Name</th>\n",
              "      <th>Sex</th>\n",
              "      <th>Age</th>\n",
              "      <th>SibSp</th>\n",
              "      <th>Parch</th>\n",
              "      <th>Ticket</th>\n",
              "      <th>Fare</th>\n",
              "      <th>Cabin</th>\n",
              "      <th>Embarked</th>\n",
              "    </tr>\n",
              "  </thead>\n",
              "  <tbody>\n",
              "    <tr>\n",
              "      <th>0</th>\n",
              "      <td>1</td>\n",
              "      <td>0</td>\n",
              "      <td>3</td>\n",
              "      <td>Braund, Mr. Owen Harris</td>\n",
              "      <td>male</td>\n",
              "      <td>22.0</td>\n",
              "      <td>1</td>\n",
              "      <td>0</td>\n",
              "      <td>A/5 21171</td>\n",
              "      <td>7.2500</td>\n",
              "      <td>NaN</td>\n",
              "      <td>S</td>\n",
              "    </tr>\n",
              "    <tr>\n",
              "      <th>1</th>\n",
              "      <td>2</td>\n",
              "      <td>1</td>\n",
              "      <td>1</td>\n",
              "      <td>Cumings, Mrs. John Bradley (Florence Briggs Th...</td>\n",
              "      <td>female</td>\n",
              "      <td>38.0</td>\n",
              "      <td>1</td>\n",
              "      <td>0</td>\n",
              "      <td>PC 17599</td>\n",
              "      <td>71.2833</td>\n",
              "      <td>C85</td>\n",
              "      <td>C</td>\n",
              "    </tr>\n",
              "    <tr>\n",
              "      <th>2</th>\n",
              "      <td>3</td>\n",
              "      <td>1</td>\n",
              "      <td>3</td>\n",
              "      <td>Heikkinen, Miss. Laina</td>\n",
              "      <td>female</td>\n",
              "      <td>26.0</td>\n",
              "      <td>0</td>\n",
              "      <td>0</td>\n",
              "      <td>STON/O2. 3101282</td>\n",
              "      <td>7.9250</td>\n",
              "      <td>NaN</td>\n",
              "      <td>S</td>\n",
              "    </tr>\n",
              "    <tr>\n",
              "      <th>3</th>\n",
              "      <td>4</td>\n",
              "      <td>1</td>\n",
              "      <td>1</td>\n",
              "      <td>Futrelle, Mrs. Jacques Heath (Lily May Peel)</td>\n",
              "      <td>female</td>\n",
              "      <td>35.0</td>\n",
              "      <td>1</td>\n",
              "      <td>0</td>\n",
              "      <td>113803</td>\n",
              "      <td>53.1000</td>\n",
              "      <td>C123</td>\n",
              "      <td>S</td>\n",
              "    </tr>\n",
              "    <tr>\n",
              "      <th>4</th>\n",
              "      <td>5</td>\n",
              "      <td>0</td>\n",
              "      <td>3</td>\n",
              "      <td>Allen, Mr. William Henry</td>\n",
              "      <td>male</td>\n",
              "      <td>35.0</td>\n",
              "      <td>0</td>\n",
              "      <td>0</td>\n",
              "      <td>373450</td>\n",
              "      <td>8.0500</td>\n",
              "      <td>NaN</td>\n",
              "      <td>S</td>\n",
              "    </tr>\n",
              "  </tbody>\n",
              "</table>\n",
              "</div>"
            ],
            "text/plain": [
              "   PassengerId  Survived  Pclass  \\\n",
              "0            1         0       3   \n",
              "1            2         1       1   \n",
              "2            3         1       3   \n",
              "3            4         1       1   \n",
              "4            5         0       3   \n",
              "\n",
              "                                                Name     Sex   Age  SibSp  \\\n",
              "0                            Braund, Mr. Owen Harris    male  22.0      1   \n",
              "1  Cumings, Mrs. John Bradley (Florence Briggs Th...  female  38.0      1   \n",
              "2                             Heikkinen, Miss. Laina  female  26.0      0   \n",
              "3       Futrelle, Mrs. Jacques Heath (Lily May Peel)  female  35.0      1   \n",
              "4                           Allen, Mr. William Henry    male  35.0      0   \n",
              "\n",
              "   Parch            Ticket     Fare Cabin Embarked  \n",
              "0      0         A/5 21171   7.2500   NaN        S  \n",
              "1      0          PC 17599  71.2833   C85        C  \n",
              "2      0  STON/O2. 3101282   7.9250   NaN        S  \n",
              "3      0            113803  53.1000  C123        S  \n",
              "4      0            373450   8.0500   NaN        S  "
            ]
          },
          "execution_count": 2,
          "metadata": {},
          "output_type": "execute_result"
        }
      ],
      "source": [
        "train_data.head()"
      ]
    },
    {
      "cell_type": "code",
      "execution_count": 3,
      "metadata": {
        "colab": {
          "base_uri": "https://localhost:8080/",
          "height": 496
        },
        "id": "Lsr8TOeBSHul",
        "outputId": "8ea23453-6256-4def-a3cd-e972dc39dc85"
      },
      "outputs": [
        {
          "data": {
            "text/html": [
              "<div>\n",
              "<style scoped>\n",
              "    .dataframe tbody tr th:only-of-type {\n",
              "        vertical-align: middle;\n",
              "    }\n",
              "\n",
              "    .dataframe tbody tr th {\n",
              "        vertical-align: top;\n",
              "    }\n",
              "\n",
              "    .dataframe thead th {\n",
              "        text-align: right;\n",
              "    }\n",
              "</style>\n",
              "<table border=\"1\" class=\"dataframe\">\n",
              "  <thead>\n",
              "    <tr style=\"text-align: right;\">\n",
              "      <th></th>\n",
              "      <th>PassengerId</th>\n",
              "      <th>Pclass</th>\n",
              "      <th>Name</th>\n",
              "      <th>Sex</th>\n",
              "      <th>Age</th>\n",
              "      <th>SibSp</th>\n",
              "      <th>Parch</th>\n",
              "      <th>Ticket</th>\n",
              "      <th>Fare</th>\n",
              "      <th>Cabin</th>\n",
              "      <th>Embarked</th>\n",
              "    </tr>\n",
              "  </thead>\n",
              "  <tbody>\n",
              "    <tr>\n",
              "      <th>0</th>\n",
              "      <td>892</td>\n",
              "      <td>3</td>\n",
              "      <td>Kelly, Mr. James</td>\n",
              "      <td>male</td>\n",
              "      <td>34.5</td>\n",
              "      <td>0</td>\n",
              "      <td>0</td>\n",
              "      <td>330911</td>\n",
              "      <td>7.8292</td>\n",
              "      <td>NaN</td>\n",
              "      <td>Q</td>\n",
              "    </tr>\n",
              "    <tr>\n",
              "      <th>1</th>\n",
              "      <td>893</td>\n",
              "      <td>3</td>\n",
              "      <td>Wilkes, Mrs. James (Ellen Needs)</td>\n",
              "      <td>female</td>\n",
              "      <td>47.0</td>\n",
              "      <td>1</td>\n",
              "      <td>0</td>\n",
              "      <td>363272</td>\n",
              "      <td>7.0000</td>\n",
              "      <td>NaN</td>\n",
              "      <td>S</td>\n",
              "    </tr>\n",
              "    <tr>\n",
              "      <th>2</th>\n",
              "      <td>894</td>\n",
              "      <td>2</td>\n",
              "      <td>Myles, Mr. Thomas Francis</td>\n",
              "      <td>male</td>\n",
              "      <td>62.0</td>\n",
              "      <td>0</td>\n",
              "      <td>0</td>\n",
              "      <td>240276</td>\n",
              "      <td>9.6875</td>\n",
              "      <td>NaN</td>\n",
              "      <td>Q</td>\n",
              "    </tr>\n",
              "    <tr>\n",
              "      <th>3</th>\n",
              "      <td>895</td>\n",
              "      <td>3</td>\n",
              "      <td>Wirz, Mr. Albert</td>\n",
              "      <td>male</td>\n",
              "      <td>27.0</td>\n",
              "      <td>0</td>\n",
              "      <td>0</td>\n",
              "      <td>315154</td>\n",
              "      <td>8.6625</td>\n",
              "      <td>NaN</td>\n",
              "      <td>S</td>\n",
              "    </tr>\n",
              "    <tr>\n",
              "      <th>4</th>\n",
              "      <td>896</td>\n",
              "      <td>3</td>\n",
              "      <td>Hirvonen, Mrs. Alexander (Helga E Lindqvist)</td>\n",
              "      <td>female</td>\n",
              "      <td>22.0</td>\n",
              "      <td>1</td>\n",
              "      <td>1</td>\n",
              "      <td>3101298</td>\n",
              "      <td>12.2875</td>\n",
              "      <td>NaN</td>\n",
              "      <td>S</td>\n",
              "    </tr>\n",
              "  </tbody>\n",
              "</table>\n",
              "</div>"
            ],
            "text/plain": [
              "   PassengerId  Pclass                                          Name     Sex  \\\n",
              "0          892       3                              Kelly, Mr. James    male   \n",
              "1          893       3              Wilkes, Mrs. James (Ellen Needs)  female   \n",
              "2          894       2                     Myles, Mr. Thomas Francis    male   \n",
              "3          895       3                              Wirz, Mr. Albert    male   \n",
              "4          896       3  Hirvonen, Mrs. Alexander (Helga E Lindqvist)  female   \n",
              "\n",
              "    Age  SibSp  Parch   Ticket     Fare Cabin Embarked  \n",
              "0  34.5      0      0   330911   7.8292   NaN        Q  \n",
              "1  47.0      1      0   363272   7.0000   NaN        S  \n",
              "2  62.0      0      0   240276   9.6875   NaN        Q  \n",
              "3  27.0      0      0   315154   8.6625   NaN        S  \n",
              "4  22.0      1      1  3101298  12.2875   NaN        S  "
            ]
          },
          "execution_count": 3,
          "metadata": {},
          "output_type": "execute_result"
        }
      ],
      "source": [
        "test_data.head()"
      ]
    },
    {
      "cell_type": "markdown",
      "metadata": {
        "id": "Vo7Ms4VDRl2U"
      },
      "source": [
        "Note that 'Survided' column is missing in the test data.\n",
        "\n",
        "----------------------------------------"
      ]
    },
    {
      "cell_type": "code",
      "execution_count": 4,
      "metadata": {
        "colab": {
          "base_uri": "https://localhost:8080/"
        },
        "id": "OW6Sa3uwSD28",
        "outputId": "bb4c108f-52c8-4400-c7ae-036f1e1717fb"
      },
      "outputs": [
        {
          "name": "stdout",
          "output_type": "stream",
          "text": [
            "<class 'pandas.core.frame.DataFrame'>\n",
            "RangeIndex: 891 entries, 0 to 890\n",
            "Data columns (total 12 columns):\n",
            " #   Column       Non-Null Count  Dtype  \n",
            "---  ------       --------------  -----  \n",
            " 0   PassengerId  891 non-null    int64  \n",
            " 1   Survived     891 non-null    int64  \n",
            " 2   Pclass       891 non-null    int64  \n",
            " 3   Name         891 non-null    object \n",
            " 4   Sex          891 non-null    object \n",
            " 5   Age          714 non-null    float64\n",
            " 6   SibSp        891 non-null    int64  \n",
            " 7   Parch        891 non-null    int64  \n",
            " 8   Ticket       891 non-null    object \n",
            " 9   Fare         891 non-null    float64\n",
            " 10  Cabin        204 non-null    object \n",
            " 11  Embarked     889 non-null    object \n",
            "dtypes: float64(2), int64(5), object(5)\n",
            "memory usage: 83.7+ KB\n"
          ]
        }
      ],
      "source": [
        "train_data.info()"
      ]
    },
    {
      "cell_type": "code",
      "execution_count": 5,
      "metadata": {
        "colab": {
          "base_uri": "https://localhost:8080/"
        },
        "id": "W_QQUQ8hSdNk",
        "outputId": "d648b0c0-37d7-4162-cf31-0139b22193c8"
      },
      "outputs": [
        {
          "name": "stdout",
          "output_type": "stream",
          "text": [
            "<class 'pandas.core.frame.DataFrame'>\n",
            "RangeIndex: 418 entries, 0 to 417\n",
            "Data columns (total 11 columns):\n",
            " #   Column       Non-Null Count  Dtype  \n",
            "---  ------       --------------  -----  \n",
            " 0   PassengerId  418 non-null    int64  \n",
            " 1   Pclass       418 non-null    int64  \n",
            " 2   Name         418 non-null    object \n",
            " 3   Sex          418 non-null    object \n",
            " 4   Age          332 non-null    float64\n",
            " 5   SibSp        418 non-null    int64  \n",
            " 6   Parch        418 non-null    int64  \n",
            " 7   Ticket       418 non-null    object \n",
            " 8   Fare         417 non-null    float64\n",
            " 9   Cabin        91 non-null     object \n",
            " 10  Embarked     418 non-null    object \n",
            "dtypes: float64(2), int64(4), object(5)\n",
            "memory usage: 36.0+ KB\n"
          ]
        }
      ],
      "source": [
        "test_data.info()"
      ]
    },
    {
      "cell_type": "markdown",
      "metadata": {
        "id": "dEucwx-ZSiSQ"
      },
      "source": [
        "Insights:\n",
        "- Most of the Cabin column is null\n",
        "- 177 (891-714) rows for age is missing\n",
        "- 2 of embarked column data is missing\n",
        "\n",
        "--------------------------------------------------\n"
      ]
    },
    {
      "cell_type": "code",
      "execution_count": 6,
      "metadata": {
        "colab": {
          "base_uri": "https://localhost:8080/",
          "height": 300
        },
        "id": "xvOQClxlTPA1",
        "outputId": "f011a879-e1a7-47ee-df1b-059c29d9176f"
      },
      "outputs": [
        {
          "data": {
            "text/html": [
              "<div>\n",
              "<style scoped>\n",
              "    .dataframe tbody tr th:only-of-type {\n",
              "        vertical-align: middle;\n",
              "    }\n",
              "\n",
              "    .dataframe tbody tr th {\n",
              "        vertical-align: top;\n",
              "    }\n",
              "\n",
              "    .dataframe thead th {\n",
              "        text-align: right;\n",
              "    }\n",
              "</style>\n",
              "<table border=\"1\" class=\"dataframe\">\n",
              "  <thead>\n",
              "    <tr style=\"text-align: right;\">\n",
              "      <th></th>\n",
              "      <th>PassengerId</th>\n",
              "      <th>Survived</th>\n",
              "      <th>Pclass</th>\n",
              "      <th>Age</th>\n",
              "      <th>SibSp</th>\n",
              "      <th>Parch</th>\n",
              "      <th>Fare</th>\n",
              "    </tr>\n",
              "  </thead>\n",
              "  <tbody>\n",
              "    <tr>\n",
              "      <th>count</th>\n",
              "      <td>891.000000</td>\n",
              "      <td>891.000000</td>\n",
              "      <td>891.000000</td>\n",
              "      <td>714.000000</td>\n",
              "      <td>891.000000</td>\n",
              "      <td>891.000000</td>\n",
              "      <td>891.000000</td>\n",
              "    </tr>\n",
              "    <tr>\n",
              "      <th>mean</th>\n",
              "      <td>446.000000</td>\n",
              "      <td>0.383838</td>\n",
              "      <td>2.308642</td>\n",
              "      <td>29.699118</td>\n",
              "      <td>0.523008</td>\n",
              "      <td>0.381594</td>\n",
              "      <td>32.204208</td>\n",
              "    </tr>\n",
              "    <tr>\n",
              "      <th>std</th>\n",
              "      <td>257.353842</td>\n",
              "      <td>0.486592</td>\n",
              "      <td>0.836071</td>\n",
              "      <td>14.526497</td>\n",
              "      <td>1.102743</td>\n",
              "      <td>0.806057</td>\n",
              "      <td>49.693429</td>\n",
              "    </tr>\n",
              "    <tr>\n",
              "      <th>min</th>\n",
              "      <td>1.000000</td>\n",
              "      <td>0.000000</td>\n",
              "      <td>1.000000</td>\n",
              "      <td>0.420000</td>\n",
              "      <td>0.000000</td>\n",
              "      <td>0.000000</td>\n",
              "      <td>0.000000</td>\n",
              "    </tr>\n",
              "    <tr>\n",
              "      <th>25%</th>\n",
              "      <td>223.500000</td>\n",
              "      <td>0.000000</td>\n",
              "      <td>2.000000</td>\n",
              "      <td>20.125000</td>\n",
              "      <td>0.000000</td>\n",
              "      <td>0.000000</td>\n",
              "      <td>7.910400</td>\n",
              "    </tr>\n",
              "    <tr>\n",
              "      <th>50%</th>\n",
              "      <td>446.000000</td>\n",
              "      <td>0.000000</td>\n",
              "      <td>3.000000</td>\n",
              "      <td>28.000000</td>\n",
              "      <td>0.000000</td>\n",
              "      <td>0.000000</td>\n",
              "      <td>14.454200</td>\n",
              "    </tr>\n",
              "    <tr>\n",
              "      <th>75%</th>\n",
              "      <td>668.500000</td>\n",
              "      <td>1.000000</td>\n",
              "      <td>3.000000</td>\n",
              "      <td>38.000000</td>\n",
              "      <td>1.000000</td>\n",
              "      <td>0.000000</td>\n",
              "      <td>31.000000</td>\n",
              "    </tr>\n",
              "    <tr>\n",
              "      <th>max</th>\n",
              "      <td>891.000000</td>\n",
              "      <td>1.000000</td>\n",
              "      <td>3.000000</td>\n",
              "      <td>80.000000</td>\n",
              "      <td>8.000000</td>\n",
              "      <td>6.000000</td>\n",
              "      <td>512.329200</td>\n",
              "    </tr>\n",
              "  </tbody>\n",
              "</table>\n",
              "</div>"
            ],
            "text/plain": [
              "       PassengerId    Survived      Pclass         Age       SibSp  \\\n",
              "count   891.000000  891.000000  891.000000  714.000000  891.000000   \n",
              "mean    446.000000    0.383838    2.308642   29.699118    0.523008   \n",
              "std     257.353842    0.486592    0.836071   14.526497    1.102743   \n",
              "min       1.000000    0.000000    1.000000    0.420000    0.000000   \n",
              "25%     223.500000    0.000000    2.000000   20.125000    0.000000   \n",
              "50%     446.000000    0.000000    3.000000   28.000000    0.000000   \n",
              "75%     668.500000    1.000000    3.000000   38.000000    1.000000   \n",
              "max     891.000000    1.000000    3.000000   80.000000    8.000000   \n",
              "\n",
              "            Parch        Fare  \n",
              "count  891.000000  891.000000  \n",
              "mean     0.381594   32.204208  \n",
              "std      0.806057   49.693429  \n",
              "min      0.000000    0.000000  \n",
              "25%      0.000000    7.910400  \n",
              "50%      0.000000   14.454200  \n",
              "75%      0.000000   31.000000  \n",
              "max      6.000000  512.329200  "
            ]
          },
          "execution_count": 6,
          "metadata": {},
          "output_type": "execute_result"
        }
      ],
      "source": [
        "train_data.describe()"
      ]
    },
    {
      "cell_type": "code",
      "execution_count": 7,
      "metadata": {
        "colab": {
          "base_uri": "https://localhost:8080/",
          "height": 300
        },
        "id": "yIF0e6VsTv6-",
        "outputId": "af675a02-ef5c-4747-f263-8b0925ad179c"
      },
      "outputs": [
        {
          "data": {
            "text/html": [
              "<div>\n",
              "<style scoped>\n",
              "    .dataframe tbody tr th:only-of-type {\n",
              "        vertical-align: middle;\n",
              "    }\n",
              "\n",
              "    .dataframe tbody tr th {\n",
              "        vertical-align: top;\n",
              "    }\n",
              "\n",
              "    .dataframe thead th {\n",
              "        text-align: right;\n",
              "    }\n",
              "</style>\n",
              "<table border=\"1\" class=\"dataframe\">\n",
              "  <thead>\n",
              "    <tr style=\"text-align: right;\">\n",
              "      <th></th>\n",
              "      <th>PassengerId</th>\n",
              "      <th>Pclass</th>\n",
              "      <th>Age</th>\n",
              "      <th>SibSp</th>\n",
              "      <th>Parch</th>\n",
              "      <th>Fare</th>\n",
              "    </tr>\n",
              "  </thead>\n",
              "  <tbody>\n",
              "    <tr>\n",
              "      <th>count</th>\n",
              "      <td>418.000000</td>\n",
              "      <td>418.000000</td>\n",
              "      <td>332.000000</td>\n",
              "      <td>418.000000</td>\n",
              "      <td>418.000000</td>\n",
              "      <td>417.000000</td>\n",
              "    </tr>\n",
              "    <tr>\n",
              "      <th>mean</th>\n",
              "      <td>1100.500000</td>\n",
              "      <td>2.265550</td>\n",
              "      <td>30.272590</td>\n",
              "      <td>0.447368</td>\n",
              "      <td>0.392344</td>\n",
              "      <td>35.627188</td>\n",
              "    </tr>\n",
              "    <tr>\n",
              "      <th>std</th>\n",
              "      <td>120.810458</td>\n",
              "      <td>0.841838</td>\n",
              "      <td>14.181209</td>\n",
              "      <td>0.896760</td>\n",
              "      <td>0.981429</td>\n",
              "      <td>55.907576</td>\n",
              "    </tr>\n",
              "    <tr>\n",
              "      <th>min</th>\n",
              "      <td>892.000000</td>\n",
              "      <td>1.000000</td>\n",
              "      <td>0.170000</td>\n",
              "      <td>0.000000</td>\n",
              "      <td>0.000000</td>\n",
              "      <td>0.000000</td>\n",
              "    </tr>\n",
              "    <tr>\n",
              "      <th>25%</th>\n",
              "      <td>996.250000</td>\n",
              "      <td>1.000000</td>\n",
              "      <td>21.000000</td>\n",
              "      <td>0.000000</td>\n",
              "      <td>0.000000</td>\n",
              "      <td>7.895800</td>\n",
              "    </tr>\n",
              "    <tr>\n",
              "      <th>50%</th>\n",
              "      <td>1100.500000</td>\n",
              "      <td>3.000000</td>\n",
              "      <td>27.000000</td>\n",
              "      <td>0.000000</td>\n",
              "      <td>0.000000</td>\n",
              "      <td>14.454200</td>\n",
              "    </tr>\n",
              "    <tr>\n",
              "      <th>75%</th>\n",
              "      <td>1204.750000</td>\n",
              "      <td>3.000000</td>\n",
              "      <td>39.000000</td>\n",
              "      <td>1.000000</td>\n",
              "      <td>0.000000</td>\n",
              "      <td>31.500000</td>\n",
              "    </tr>\n",
              "    <tr>\n",
              "      <th>max</th>\n",
              "      <td>1309.000000</td>\n",
              "      <td>3.000000</td>\n",
              "      <td>76.000000</td>\n",
              "      <td>8.000000</td>\n",
              "      <td>9.000000</td>\n",
              "      <td>512.329200</td>\n",
              "    </tr>\n",
              "  </tbody>\n",
              "</table>\n",
              "</div>"
            ],
            "text/plain": [
              "       PassengerId      Pclass         Age       SibSp       Parch        Fare\n",
              "count   418.000000  418.000000  332.000000  418.000000  418.000000  417.000000\n",
              "mean   1100.500000    2.265550   30.272590    0.447368    0.392344   35.627188\n",
              "std     120.810458    0.841838   14.181209    0.896760    0.981429   55.907576\n",
              "min     892.000000    1.000000    0.170000    0.000000    0.000000    0.000000\n",
              "25%     996.250000    1.000000   21.000000    0.000000    0.000000    7.895800\n",
              "50%    1100.500000    3.000000   27.000000    0.000000    0.000000   14.454200\n",
              "75%    1204.750000    3.000000   39.000000    1.000000    0.000000   31.500000\n",
              "max    1309.000000    3.000000   76.000000    8.000000    9.000000  512.329200"
            ]
          },
          "execution_count": 7,
          "metadata": {},
          "output_type": "execute_result"
        }
      ],
      "source": [
        "test_data.describe()"
      ]
    },
    {
      "cell_type": "markdown",
      "metadata": {
        "id": "4VslgxPQTvWO"
      },
      "source": [
        "Insigths:\n",
        "- Train data size: 891; test data size: 418\n",
        "- Age ranges between 0.42 to 80 for the train data and between 0.17 to 76 for test data\n",
        "- Fare ranges between 0 to 512\n",
        "- etc.\n",
        "---------------------------------------------"
      ]
    },
    {
      "cell_type": "markdown",
      "metadata": {
        "id": "2h2Jh7C9dI3U"
      },
      "source": [
        "### Review the responses to the\tvalue_counts() method:\n",
        "-------------------------------------"
      ]
    },
    {
      "cell_type": "code",
      "execution_count": 8,
      "metadata": {
        "colab": {
          "base_uri": "https://localhost:8080/"
        },
        "id": "pnIow1vieOGg",
        "outputId": "6f82fc89-07bb-4a36-8565-3863760dda8c"
      },
      "outputs": [
        {
          "data": {
            "text/plain": [
              "0    549\n",
              "1    342\n",
              "Name: Survived, dtype: int64"
            ]
          },
          "execution_count": 8,
          "metadata": {},
          "output_type": "execute_result"
        }
      ],
      "source": [
        "train_data.Survived.value_counts() # make sure that survided has 0 and 1 values and see how many we have for each"
      ]
    },
    {
      "cell_type": "code",
      "execution_count": 9,
      "metadata": {
        "colab": {
          "base_uri": "https://localhost:8080/"
        },
        "id": "t2aUnTMXdMw4",
        "outputId": "9c564f49-6480-4311-c3f1-f9df58470a4b"
      },
      "outputs": [
        {
          "data": {
            "text/plain": [
              "3    491\n",
              "1    216\n",
              "2    184\n",
              "Name: Pclass, dtype: int64"
            ]
          },
          "execution_count": 9,
          "metadata": {},
          "output_type": "execute_result"
        }
      ],
      "source": [
        "train_data.Pclass.value_counts() # see the passenger classes we have and see how many we have for each"
      ]
    },
    {
      "cell_type": "code",
      "execution_count": 10,
      "metadata": {
        "colab": {
          "base_uri": "https://localhost:8080/"
        },
        "id": "ofXPCU36d6VN",
        "outputId": "1eee4108-156e-4699-decc-0270e23f7b92"
      },
      "outputs": [
        {
          "data": {
            "text/plain": [
              "male      577\n",
              "female    314\n",
              "Name: Sex, dtype: int64"
            ]
          },
          "execution_count": 10,
          "metadata": {},
          "output_type": "execute_result"
        }
      ],
      "source": [
        "train_data.Sex.value_counts() # make sure we have male/female values and see how many we have for each"
      ]
    },
    {
      "cell_type": "code",
      "execution_count": 11,
      "metadata": {
        "colab": {
          "base_uri": "https://localhost:8080/"
        },
        "id": "ddcg8v9Dfey7",
        "outputId": "6e3c6de3-fee6-4a63-a1f9-cf2f28164afe"
      },
      "outputs": [
        {
          "data": {
            "text/plain": [
              "S    644\n",
              "C    168\n",
              "Q     77\n",
              "Name: Embarked, dtype: int64"
            ]
          },
          "execution_count": 11,
          "metadata": {},
          "output_type": "execute_result"
        }
      ],
      "source": [
        "train_data.Embarked.value_counts() # see the unique values and see how many we have for each"
      ]
    },
    {
      "cell_type": "code",
      "execution_count": 12,
      "metadata": {
        "colab": {
          "base_uri": "https://localhost:8080/"
        },
        "id": "2HguyoCnf3ge",
        "outputId": "006930e0-d7fe-4afa-dd42-d8defcf47bf6"
      },
      "outputs": [
        {
          "data": {
            "text/plain": [
              "0    678\n",
              "1    118\n",
              "2     80\n",
              "5      5\n",
              "3      5\n",
              "4      4\n",
              "6      1\n",
              "Name: Parch, dtype: int64"
            ]
          },
          "execution_count": 12,
          "metadata": {},
          "output_type": "execute_result"
        }
      ],
      "source": [
        "train_data.Parch.value_counts() # see the parent children values and its distribution"
      ]
    },
    {
      "cell_type": "code",
      "execution_count": 13,
      "metadata": {
        "colab": {
          "base_uri": "https://localhost:8080/"
        },
        "id": "uZhFg3U8gu4V",
        "outputId": "af9fda66-ba1c-47f3-f4e6-fd97a0c07ea8"
      },
      "outputs": [
        {
          "data": {
            "text/plain": [
              "0    608\n",
              "1    209\n",
              "2     28\n",
              "4     18\n",
              "3     16\n",
              "8      7\n",
              "5      5\n",
              "Name: SibSp, dtype: int64"
            ]
          },
          "execution_count": 13,
          "metadata": {},
          "output_type": "execute_result"
        }
      ],
      "source": [
        "train_data.SibSp.value_counts() # see the parent children values and its distribution"
      ]
    },
    {
      "cell_type": "markdown",
      "metadata": {
        "id": "Qm-gDdhPnsHV"
      },
      "source": [
        "### Prepare a DataFrame that contains the following numeric fields: Survided, Sex, Age, SibSp, Parch, Fare. Plot these numeric fields on a histogram to get more insights\n",
        "-------------------------------------"
      ]
    },
    {
      "cell_type": "code",
      "execution_count": 14,
      "metadata": {
        "colab": {
          "base_uri": "https://localhost:8080/"
        },
        "id": "4KdqGnajhrw3",
        "outputId": "13dc9b8b-402a-4738-a673-f17e7caee644"
      },
      "outputs": [
        {
          "data": {
            "text/plain": [
              "array([[<Axes: title={'center': 'Survived'}>,\n",
              "        <Axes: title={'center': 'Age'}>],\n",
              "       [<Axes: title={'center': 'SibSp'}>,\n",
              "        <Axes: title={'center': 'Parch'}>],\n",
              "       [<Axes: title={'center': 'Fare'}>, <Axes: >]], dtype=object)"
            ]
          },
          "execution_count": 14,
          "metadata": {},
          "output_type": "execute_result"
        },
        {
          "data": {
            "image/png": "[encoded data removed]",
            "text/plain": [
              "<Figure size 2000x1500 with 6 Axes>"
            ]
          },
          "metadata": {},
          "output_type": "display_data"
        }
      ],
      "source": [
        "%matplotlib inline\n",
        "import matplotlib.pyplot as plt\n",
        "hist_data = train_data[[\"Survived\", \"Sex\", \"Age\", \"SibSp\", \"Parch\", \"Fare\"]]\n",
        "hist_data.hist(figsize=(20,15))\n",
        "#hist_data.Fare[train_data[\"Fare\"] < 20].hist(bins=20,figsize=(20,15))\n"
      ]
    },
    {
      "cell_type": "markdown",
      "metadata": {
        "id": "MRtzJcY0qn2U"
      },
      "source": [
        "Insights:\n",
        "- Age is mostly between 20 and 30\n",
        "- Fare is mostly has low values (less than 20 dolars\n",
        "\n",
        "-----------------------------------------------\n"
      ]
    },
    {
      "cell_type": "markdown",
      "metadata": {
        "id": "h909Pm31jEwg"
      },
      "source": [
        "### Use groupby of Pandas to explain the following questions. Study the examples listed here for groupby and plot functions:\n",
        "-\thttps://towardsdatascience.com/pandas-groupby-explained-453692519d0\n",
        "-\thttps://medium.com/@sciencelee/making-plots-with-the-pandas-groupby-ac492941af28\n",
        "\n",
        "For the following examples, use group by and plot for example:\n",
        "> dataFrame.groupby(‘attribute1’)[‘attribute2’].mean()\n",
        "\n",
        "> dataFrame.groupby(‘attribute1’)[‘attribute2’].mean().plot(kind=’bar’)"
      ]
    },
    {
      "cell_type": "markdown",
      "metadata": {
        "id": "otrdUUuXZ6QO"
      },
      "source": []
    },
    {
      "cell_type": "markdown",
      "metadata": {
        "id": "GjhTnoVtmUZ6"
      },
      "source": [
        "\n",
        "#### Show the average survival rate based on passenger class and sex. Then plot the results.\n",
        "\n",
        "The following examples use group by and plot for example:\n",
        "\n",
        "dataFrame.groupby(‘attribute1’)[‘attribute2’].mean()\n",
        "\n",
        "dataFrame.groupby(‘attribute1’)[‘attribute2’].mean().plot(kind=’bar’)\n",
        "\n",
        "For more info:\n",
        "https://towardsdatascience.com/pandas-groupby-explained-453692519d0\n",
        "\n",
        "https://medium.com/@sciencelee/making-plots-with-the-pandas-groupby-ac492941af28\n"
      ]
    },
    {
      "cell_type": "code",
      "execution_count": 15,
      "metadata": {
        "colab": {
          "base_uri": "https://localhost:8080/"
        },
        "id": "5LLCIt3-muyf",
        "outputId": "779dca94-cb4a-4f60-aaae-a867e3605793"
      },
      "outputs": [
        {
          "data": {
            "text/plain": [
              "Pclass\n",
              "1    0.629630\n",
              "2    0.472826\n",
              "3    0.242363\n",
              "Name: Survived, dtype: float64"
            ]
          },
          "execution_count": 15,
          "metadata": {},
          "output_type": "execute_result"
        }
      ],
      "source": [
        "train_data.groupby(['Pclass'])['Survived'].mean()"
      ]
    },
    {
      "cell_type": "code",
      "execution_count": 16,
      "metadata": {
        "colab": {
          "base_uri": "https://localhost:8080/",
          "height": 293
        },
        "id": "YJKczEt4mYuI",
        "outputId": "058a729c-fe43-4f96-fe68-f722919ca169"
      },
      "outputs": [
        {
          "data": {
            "text/plain": [
              "<Axes: xlabel='Pclass'>"
            ]
          },
          "execution_count": 16,
          "metadata": {},
          "output_type": "execute_result"
        },
        {
          "data": {
            "image/png": "[encoded data removed]",
            "text/plain": [
              "<Figure size 640x480 with 1 Axes>"
            ]
          },
          "metadata": {},
          "output_type": "display_data"
        }
      ],
      "source": [
        "train_data.groupby(['Pclass'])['Survived'].mean().plot(kind='bar')"
      ]
    },
    {
      "cell_type": "markdown",
      "metadata": {
        "id": "EwoaxFiTzAau"
      },
      "source": [
        "The insight:\n",
        "- First class has higher survival rate than second class and second class has higher than third class\n",
        "----------------------------------"
      ]
    },
    {
      "cell_type": "code",
      "execution_count": 17,
      "metadata": {
        "colab": {
          "base_uri": "https://localhost:8080/"
        },
        "id": "b71FtP34nRVv",
        "outputId": "10d033d4-cead-41d9-80aa-458c4a6b457b"
      },
      "outputs": [
        {
          "data": {
            "text/plain": [
              "Sex\n",
              "female    0.742038\n",
              "male      0.188908\n",
              "Name: Survived, dtype: float64"
            ]
          },
          "execution_count": 17,
          "metadata": {},
          "output_type": "execute_result"
        }
      ],
      "source": [
        "train_data.groupby(['Sex'])['Survived'].mean()"
      ]
    },
    {
      "cell_type": "code",
      "execution_count": 18,
      "metadata": {
        "colab": {
          "base_uri": "https://localhost:8080/",
          "height": 321
        },
        "id": "2Vq9Yx1ynXSD",
        "outputId": "204513d7-c03b-4309-ec22-51a0528cb1d0"
      },
      "outputs": [
        {
          "data": {
            "text/plain": [
              "<Axes: xlabel='Sex'>"
            ]
          },
          "execution_count": 18,
          "metadata": {},
          "output_type": "execute_result"
        },
        {
          "data": {
            "image/png": "[encoded data removed]",
            "text/plain": [
              "<Figure size 640x480 with 1 Axes>"
            ]
          },
          "metadata": {},
          "output_type": "display_data"
        }
      ],
      "source": [
        "train_data.groupby(['Sex'])['Survived'].mean().plot(kind='bar')"
      ]
    },
    {
      "cell_type": "markdown",
      "metadata": {
        "id": "SgRtATtozR6p"
      },
      "source": [
        "The insight:\n",
        "- Women have better survival rate than men\n",
        "----------------------------------"
      ]
    },
    {
      "cell_type": "markdown",
      "metadata": {
        "id": "cXK82TXTj4Xo"
      },
      "source": [
        "#### Other examples of group by and median:"
      ]
    },
    {
      "cell_type": "code",
      "execution_count": 19,
      "metadata": {
        "colab": {
          "base_uri": "https://localhost:8080/"
        },
        "id": "nluH9jryaM8g",
        "outputId": "f499a4b8-4ed9-4b8e-f0c0-ed613549cbde"
      },
      "outputs": [
        {
          "data": {
            "text/plain": [
              "Pclass  Sex   \n",
              "1       female    35.0\n",
              "        male      40.0\n",
              "2       female    28.0\n",
              "        male      30.0\n",
              "3       female    21.5\n",
              "        male      25.0\n",
              "Name: Age, dtype: float64"
            ]
          },
          "execution_count": 19,
          "metadata": {},
          "output_type": "execute_result"
        }
      ],
      "source": [
        "train_data.groupby(['Pclass','Sex'])['Age'].median() # median age by Pclass, Sex"
      ]
    },
    {
      "cell_type": "code",
      "execution_count": 20,
      "metadata": {
        "colab": {
          "base_uri": "https://localhost:8080/"
        },
        "id": "qileNulxTy-t",
        "outputId": "86087bed-396a-4c94-9157-8f0cf74d1cba"
      },
      "outputs": [
        {
          "data": {
            "text/plain": [
              "Pclass  Embarked\n",
              "1       C           78.2667\n",
              "        Q           90.0000\n",
              "        S           52.0000\n",
              "2       C           24.0000\n",
              "        Q           12.3500\n",
              "        S           13.5000\n",
              "3       C            7.8958\n",
              "        Q            7.7500\n",
              "        S            8.0500\n",
              "Name: Fare, dtype: float64"
            ]
          },
          "execution_count": 20,
          "metadata": {},
          "output_type": "execute_result"
        }
      ],
      "source": [
        "train_data.groupby(['Pclass','Embarked'])['Fare'].median()"
      ]
    },
    {
      "cell_type": "markdown",
      "metadata": {
        "id": "f9A_IHSTXIkL"
      },
      "source": [
        "-----------------------------"
      ]
    },
    {
      "cell_type": "markdown",
      "metadata": {
        "id": "psvyLl4EXwlp"
      },
      "source": [
        "### Process data\n",
        "- 1) Create a new 'all_data' frame by appending test data to train data. \n",
        "\n",
        "- 2) Using pandas methods see and show that some indexes repeat. Find a way to re-organize the index so that they are unique and do not have an extra 'index' column.\n",
        "\n",
        "- 3) Then check the data using the info() method and list which columns have missing data (other than 'Survived')"
      ]
    },
    {
      "cell_type": "code",
      "execution_count": 21,
      "metadata": {
        "colab": {
          "base_uri": "https://localhost:8080/"
        },
        "id": "zHCjFiYIXMe9",
        "outputId": "2df507a3-ff9c-4e50-e972-325782f708af"
      },
      "outputs": [
        {
          "name": "stdout",
          "output_type": "stream",
          "text": [
            "<class 'pandas.core.frame.DataFrame'>\n",
            "Int64Index: 1309 entries, 0 to 417\n",
            "Data columns (total 12 columns):\n",
            " #   Column       Non-Null Count  Dtype  \n",
            "---  ------       --------------  -----  \n",
            " 0   PassengerId  1309 non-null   int64  \n",
            " 1   Survived     891 non-null    float64\n",
            " 2   Pclass       1309 non-null   int64  \n",
            " 3   Name         1309 non-null   object \n",
            " 4   Sex          1309 non-null   object \n",
            " 5   Age          1046 non-null   float64\n",
            " 6   SibSp        1309 non-null   int64  \n",
            " 7   Parch        1309 non-null   int64  \n",
            " 8   Ticket       1309 non-null   object \n",
            " 9   Fare         1308 non-null   float64\n",
            " 10  Cabin        295 non-null    object \n",
            " 11  Embarked     1307 non-null   object \n",
            "dtypes: float64(3), int64(4), object(5)\n",
            "memory usage: 132.9+ KB\n"
          ]
        },
        {
          "name": "stderr",
          "output_type": "stream",
          "text": [
            "/tmp/ipykernel_23996/3091035193.py:1: FutureWarning: The frame.append method is deprecated and will be removed from pandas in a future version. Use pandas.concat instead.\n",
            "  all_data = train_data.append(test_data) # important\n"
          ]
        }
      ],
      "source": [
        "all_data = train_data.append(test_data) # important\n",
        "all_data.info()"
      ]
    },
    {
      "cell_type": "code",
      "execution_count": 22,
      "metadata": {
        "colab": {
          "base_uri": "https://localhost:8080/",
          "height": 496
        },
        "id": "gSfvwGsXAMHs",
        "outputId": "be7e3ef5-b5f0-4689-a97d-86edc424ba35"
      },
      "outputs": [
        {
          "data": {
            "text/html": [
              "<div>\n",
              "<style scoped>\n",
              "    .dataframe tbody tr th:only-of-type {\n",
              "        vertical-align: middle;\n",
              "    }\n",
              "\n",
              "    .dataframe tbody tr th {\n",
              "        vertical-align: top;\n",
              "    }\n",
              "\n",
              "    .dataframe thead th {\n",
              "        text-align: right;\n",
              "    }\n",
              "</style>\n",
              "<table border=\"1\" class=\"dataframe\">\n",
              "  <thead>\n",
              "    <tr style=\"text-align: right;\">\n",
              "      <th></th>\n",
              "      <th>PassengerId</th>\n",
              "      <th>Survived</th>\n",
              "      <th>Pclass</th>\n",
              "      <th>Name</th>\n",
              "      <th>Sex</th>\n",
              "      <th>Age</th>\n",
              "      <th>SibSp</th>\n",
              "      <th>Parch</th>\n",
              "      <th>Ticket</th>\n",
              "      <th>Fare</th>\n",
              "      <th>Cabin</th>\n",
              "      <th>Embarked</th>\n",
              "    </tr>\n",
              "  </thead>\n",
              "  <tbody>\n",
              "    <tr>\n",
              "      <th>413</th>\n",
              "      <td>1305</td>\n",
              "      <td>NaN</td>\n",
              "      <td>3</td>\n",
              "      <td>Spector, Mr. Woolf</td>\n",
              "      <td>male</td>\n",
              "      <td>NaN</td>\n",
              "      <td>0</td>\n",
              "      <td>0</td>\n",
              "      <td>A.5. 3236</td>\n",
              "      <td>8.0500</td>\n",
              "      <td>NaN</td>\n",
              "      <td>S</td>\n",
              "    </tr>\n",
              "    <tr>\n",
              "      <th>414</th>\n",
              "      <td>1306</td>\n",
              "      <td>NaN</td>\n",
              "      <td>1</td>\n",
              "      <td>Oliva y Ocana, Dona. Fermina</td>\n",
              "      <td>female</td>\n",
              "      <td>39.0</td>\n",
              "      <td>0</td>\n",
              "      <td>0</td>\n",
              "      <td>PC 17758</td>\n",
              "      <td>108.9000</td>\n",
              "      <td>C105</td>\n",
              "      <td>C</td>\n",
              "    </tr>\n",
              "    <tr>\n",
              "      <th>415</th>\n",
              "      <td>1307</td>\n",
              "      <td>NaN</td>\n",
              "      <td>3</td>\n",
              "      <td>Saether, Mr. Simon Sivertsen</td>\n",
              "      <td>male</td>\n",
              "      <td>38.5</td>\n",
              "      <td>0</td>\n",
              "      <td>0</td>\n",
              "      <td>SOTON/O.Q. 3101262</td>\n",
              "      <td>7.2500</td>\n",
              "      <td>NaN</td>\n",
              "      <td>S</td>\n",
              "    </tr>\n",
              "    <tr>\n",
              "      <th>416</th>\n",
              "      <td>1308</td>\n",
              "      <td>NaN</td>\n",
              "      <td>3</td>\n",
              "      <td>Ware, Mr. Frederick</td>\n",
              "      <td>male</td>\n",
              "      <td>NaN</td>\n",
              "      <td>0</td>\n",
              "      <td>0</td>\n",
              "      <td>359309</td>\n",
              "      <td>8.0500</td>\n",
              "      <td>NaN</td>\n",
              "      <td>S</td>\n",
              "    </tr>\n",
              "    <tr>\n",
              "      <th>417</th>\n",
              "      <td>1309</td>\n",
              "      <td>NaN</td>\n",
              "      <td>3</td>\n",
              "      <td>Peter, Master. Michael J</td>\n",
              "      <td>male</td>\n",
              "      <td>NaN</td>\n",
              "      <td>1</td>\n",
              "      <td>1</td>\n",
              "      <td>2668</td>\n",
              "      <td>22.3583</td>\n",
              "      <td>NaN</td>\n",
              "      <td>C</td>\n",
              "    </tr>\n",
              "  </tbody>\n",
              "</table>\n",
              "</div>"
            ],
            "text/plain": [
              "     PassengerId  Survived  Pclass                          Name     Sex  \\\n",
              "413         1305       NaN       3            Spector, Mr. Woolf    male   \n",
              "414         1306       NaN       1  Oliva y Ocana, Dona. Fermina  female   \n",
              "415         1307       NaN       3  Saether, Mr. Simon Sivertsen    male   \n",
              "416         1308       NaN       3           Ware, Mr. Frederick    male   \n",
              "417         1309       NaN       3      Peter, Master. Michael J    male   \n",
              "\n",
              "      Age  SibSp  Parch              Ticket      Fare Cabin Embarked  \n",
              "413   NaN      0      0           A.5. 3236    8.0500   NaN        S  \n",
              "414  39.0      0      0            PC 17758  108.9000  C105        C  \n",
              "415  38.5      0      0  SOTON/O.Q. 3101262    7.2500   NaN        S  \n",
              "416   NaN      0      0              359309    8.0500   NaN        S  \n",
              "417   NaN      1      1                2668   22.3583   NaN        C  "
            ]
          },
          "execution_count": 22,
          "metadata": {},
          "output_type": "execute_result"
        }
      ],
      "source": [
        "all_data.tail() # see that last indexes are not the same as passenger id"
      ]
    },
    {
      "cell_type": "code",
      "execution_count": 23,
      "metadata": {
        "colab": {
          "base_uri": "https://localhost:8080/"
        },
        "id": "ENSFHdV_C10T",
        "outputId": "ce97b885-ad5f-4ffb-b60b-b27aa6d313c1"
      },
      "outputs": [
        {
          "data": {
            "text/plain": [
              "0       True\n",
              "314     True\n",
              "286     True\n",
              "285     True\n",
              "284     True\n",
              "       ...  \n",
              "571    False\n",
              "570    False\n",
              "569    False\n",
              "568    False\n",
              "890    False\n",
              "Length: 891, dtype: bool"
            ]
          },
          "execution_count": 23,
          "metadata": {},
          "output_type": "execute_result"
        }
      ],
      "source": [
        "all_data.index.value_counts()>1  # see that some index values exists more than 1"
      ]
    },
    {
      "cell_type": "markdown",
      "metadata": {
        "id": "zMa8T04SO7F5"
      },
      "source": [
        "##### Re-organize the index so that they are unique and do not have an extra 'index' column."
      ]
    },
    {
      "cell_type": "code",
      "execution_count": 24,
      "metadata": {
        "id": "2SLJYzIiBve_"
      },
      "outputs": [],
      "source": [
        "all_data.reset_index(inplace = True, drop = True) # reset the inde inplace and drop the created extra 'index' column"
      ]
    },
    {
      "cell_type": "markdown",
      "metadata": {
        "id": "d1Vb_JR7PDwQ"
      },
      "source": [
        "### Find out that some of the columns are missing data (have null values): "
      ]
    },
    {
      "cell_type": "code",
      "execution_count": 25,
      "metadata": {
        "colab": {
          "base_uri": "https://localhost:8080/"
        },
        "id": "Hr7aqZxqAQp6",
        "outputId": "203302aa-d8d8-423a-8bb5-06ce2b5e86ff"
      },
      "outputs": [
        {
          "name": "stdout",
          "output_type": "stream",
          "text": [
            "<class 'pandas.core.frame.DataFrame'>\n",
            "RangeIndex: 1309 entries, 0 to 1308\n",
            "Data columns (total 12 columns):\n",
            " #   Column       Non-Null Count  Dtype  \n",
            "---  ------       --------------  -----  \n",
            " 0   PassengerId  1309 non-null   int64  \n",
            " 1   Survived     891 non-null    float64\n",
            " 2   Pclass       1309 non-null   int64  \n",
            " 3   Name         1309 non-null   object \n",
            " 4   Sex          1309 non-null   object \n",
            " 5   Age          1046 non-null   float64\n",
            " 6   SibSp        1309 non-null   int64  \n",
            " 7   Parch        1309 non-null   int64  \n",
            " 8   Ticket       1309 non-null   object \n",
            " 9   Fare         1308 non-null   float64\n",
            " 10  Cabin        295 non-null    object \n",
            " 11  Embarked     1307 non-null   object \n",
            "dtypes: float64(3), int64(4), object(5)\n",
            "memory usage: 122.8+ KB\n"
          ]
        }
      ],
      "source": [
        "all_data.info() "
      ]
    },
    {
      "cell_type": "markdown",
      "metadata": {
        "id": "rvQTHot2DZK-"
      },
      "source": [
        "Which columns have missing data:\n",
        "- Age\n",
        "- Fare\n",
        "- Cabin\n",
        "- Embarked"
      ]
    },
    {
      "cell_type": "markdown",
      "metadata": {
        "id": "glJEC9N6EhqN"
      },
      "source": [
        "#### Fill missing values of 'Cabin' field with the 'NA' value."
      ]
    },
    {
      "cell_type": "code",
      "execution_count": 26,
      "metadata": {
        "id": "HNSrcYFcBL0H"
      },
      "outputs": [],
      "source": [
        "all_data.Cabin = all_data.Cabin.fillna('NA')\n",
        "all_data.Cabin.fillna('NA', inplace=True)"
      ]
    },
    {
      "cell_type": "markdown",
      "metadata": {
        "id": "J7Ql5NWAWwBZ"
      },
      "source": [
        "### Work on missing values on the whole data set"
      ]
    },
    {
      "cell_type": "code",
      "execution_count": 27,
      "metadata": {
        "colab": {
          "base_uri": "https://localhost:8080/"
        },
        "id": "_HEKlXPMqIco",
        "outputId": "36e4cd93-2b14-4495-dcdd-c612a4c790b3"
      },
      "outputs": [
        {
          "name": "stdout",
          "output_type": "stream",
          "text": [
            "<class 'pandas.core.frame.DataFrame'>\n",
            "RangeIndex: 1309 entries, 0 to 1308\n",
            "Data columns (total 12 columns):\n",
            " #   Column       Non-Null Count  Dtype  \n",
            "---  ------       --------------  -----  \n",
            " 0   PassengerId  1309 non-null   int64  \n",
            " 1   Survived     891 non-null    float64\n",
            " 2   Pclass       1309 non-null   int64  \n",
            " 3   Name         1309 non-null   object \n",
            " 4   Sex          1309 non-null   object \n",
            " 5   Age          1046 non-null   float64\n",
            " 6   SibSp        1309 non-null   int64  \n",
            " 7   Parch        1309 non-null   int64  \n",
            " 8   Ticket       1309 non-null   object \n",
            " 9   Fare         1308 non-null   float64\n",
            " 10  Cabin        1309 non-null   object \n",
            " 11  Embarked     1307 non-null   object \n",
            "dtypes: float64(3), int64(4), object(5)\n",
            "memory usage: 122.8+ KB\n"
          ]
        }
      ],
      "source": [
        "all_data.info() "
      ]
    },
    {
      "cell_type": "markdown",
      "metadata": {
        "id": "Qaay5ZK6YPZB"
      },
      "source": [
        "#### Fill the missing values of 'Age' field with the median age of the pasenger class and sex using the apply method with lambda function. \n"
      ]
    },
    {
      "cell_type": "code",
      "execution_count": 28,
      "metadata": {
        "id": "vBvugB1KbSKD"
      },
      "outputs": [
        {
          "name": "stderr",
          "output_type": "stream",
          "text": [
            "/tmp/ipykernel_23996/4272141461.py:2: FutureWarning: Not prepending group keys to the result index of transform-like apply. In the future, the group keys will be included in the index, regardless of whether the applied function returns a like-indexed object.\n",
            "To preserve the previous behavior, use\n",
            "\n",
            "\t>>> .groupby(..., group_keys=False)\n",
            "\n",
            "To adopt the future behavior and silence this warning, use \n",
            "\n",
            "\t>>> .groupby(..., group_keys=True)\n",
            "  all_data['Age'] = all_data.groupby(['Pclass','Sex'])['Age'].apply(lambda x : x.fillna(x.median()))\n"
          ]
        }
      ],
      "source": [
        "# Fill in missing age information based on the median age for its class and sex.\n",
        "all_data['Age'] = all_data.groupby(['Pclass','Sex'])['Age'].apply(lambda x : x.fillna(x.median()))"
      ]
    },
    {
      "cell_type": "code",
      "execution_count": 29,
      "metadata": {
        "colab": {
          "base_uri": "https://localhost:8080/"
        },
        "id": "zBaMBseep4dQ",
        "outputId": "3cedd098-5f4c-4cf5-bcee-fd982f6a2e6d"
      },
      "outputs": [
        {
          "name": "stdout",
          "output_type": "stream",
          "text": [
            "<class 'pandas.core.frame.DataFrame'>\n",
            "RangeIndex: 1309 entries, 0 to 1308\n",
            "Data columns (total 12 columns):\n",
            " #   Column       Non-Null Count  Dtype  \n",
            "---  ------       --------------  -----  \n",
            " 0   PassengerId  1309 non-null   int64  \n",
            " 1   Survived     891 non-null    float64\n",
            " 2   Pclass       1309 non-null   int64  \n",
            " 3   Name         1309 non-null   object \n",
            " 4   Sex          1309 non-null   object \n",
            " 5   Age          1309 non-null   float64\n",
            " 6   SibSp        1309 non-null   int64  \n",
            " 7   Parch        1309 non-null   int64  \n",
            " 8   Ticket       1309 non-null   object \n",
            " 9   Fare         1308 non-null   float64\n",
            " 10  Cabin        1309 non-null   object \n",
            " 11  Embarked     1307 non-null   object \n",
            "dtypes: float64(3), int64(4), object(5)\n",
            "memory usage: 122.8+ KB\n"
          ]
        }
      ],
      "source": [
        "all_data.info()"
      ]
    },
    {
      "cell_type": "markdown",
      "metadata": {
        "id": "_uaurJv6EtY_"
      },
      "source": [
        "#### Fill missing values of 'Embarked' field with the most frequently seen 'Embarked' value."
      ]
    },
    {
      "cell_type": "code",
      "execution_count": 30,
      "metadata": {
        "id": "T0hBScBbbpDB"
      },
      "outputs": [],
      "source": [
        "# Fill in missing Embarked based on the most frequent Embarked\n",
        "all_data['Embarked'].fillna(all_data['Embarked'].mode()[0], inplace = True)"
      ]
    },
    {
      "cell_type": "code",
      "execution_count": 31,
      "metadata": {
        "colab": {
          "base_uri": "https://localhost:8080/"
        },
        "id": "_Xs_YtLfFJmT",
        "outputId": "e66f20c1-b3de-4818-d812-7c6cca75e198"
      },
      "outputs": [
        {
          "name": "stdout",
          "output_type": "stream",
          "text": [
            "<class 'pandas.core.frame.DataFrame'>\n",
            "RangeIndex: 1309 entries, 0 to 1308\n",
            "Data columns (total 12 columns):\n",
            " #   Column       Non-Null Count  Dtype  \n",
            "---  ------       --------------  -----  \n",
            " 0   PassengerId  1309 non-null   int64  \n",
            " 1   Survived     891 non-null    float64\n",
            " 2   Pclass       1309 non-null   int64  \n",
            " 3   Name         1309 non-null   object \n",
            " 4   Sex          1309 non-null   object \n",
            " 5   Age          1309 non-null   float64\n",
            " 6   SibSp        1309 non-null   int64  \n",
            " 7   Parch        1309 non-null   int64  \n",
            " 8   Ticket       1309 non-null   object \n",
            " 9   Fare         1308 non-null   float64\n",
            " 10  Cabin        1309 non-null   object \n",
            " 11  Embarked     1309 non-null   object \n",
            "dtypes: float64(3), int64(4), object(5)\n",
            "memory usage: 122.8+ KB\n"
          ]
        }
      ],
      "source": [
        "all_data.info() # Check if all missing data was filled in"
      ]
    },
    {
      "cell_type": "markdown",
      "metadata": {
        "id": "_pLjO1ktaQBn"
      },
      "source": [
        "#### Fill missing values of 'Fare' field with the median fare of the pasenger class and embarked location using the apply method with lambda function. "
      ]
    },
    {
      "cell_type": "code",
      "execution_count": 32,
      "metadata": {
        "id": "uetSvIgCcaHQ"
      },
      "outputs": [
        {
          "name": "stderr",
          "output_type": "stream",
          "text": [
            "/tmp/ipykernel_23996/4037061877.py:2: FutureWarning: Not prepending group keys to the result index of transform-like apply. In the future, the group keys will be included in the index, regardless of whether the applied function returns a like-indexed object.\n",
            "To preserve the previous behavior, use\n",
            "\n",
            "\t>>> .groupby(..., group_keys=False)\n",
            "\n",
            "To adopt the future behavior and silence this warning, use \n",
            "\n",
            "\t>>> .groupby(..., group_keys=True)\n",
            "  all_data['Fare'] = all_data.groupby(['Pclass','Embarked'])['Fare'].apply(lambda x : x.fillna(x.median()))\n"
          ]
        }
      ],
      "source": [
        "# Fill in missing fare based on its class and embarked place\n",
        "all_data['Fare'] = all_data.groupby(['Pclass','Embarked'])['Fare'].apply(lambda x : x.fillna(x.median()))"
      ]
    },
    {
      "cell_type": "code",
      "execution_count": 33,
      "metadata": {
        "colab": {
          "base_uri": "https://localhost:8080/"
        },
        "id": "cADY-ZOSqAGM",
        "outputId": "00e3808d-8ddf-4fb4-d255-2101d2b32b9c"
      },
      "outputs": [
        {
          "name": "stdout",
          "output_type": "stream",
          "text": [
            "<class 'pandas.core.frame.DataFrame'>\n",
            "RangeIndex: 1309 entries, 0 to 1308\n",
            "Data columns (total 12 columns):\n",
            " #   Column       Non-Null Count  Dtype  \n",
            "---  ------       --------------  -----  \n",
            " 0   PassengerId  1309 non-null   int64  \n",
            " 1   Survived     891 non-null    float64\n",
            " 2   Pclass       1309 non-null   int64  \n",
            " 3   Name         1309 non-null   object \n",
            " 4   Sex          1309 non-null   object \n",
            " 5   Age          1309 non-null   float64\n",
            " 6   SibSp        1309 non-null   int64  \n",
            " 7   Parch        1309 non-null   int64  \n",
            " 8   Ticket       1309 non-null   object \n",
            " 9   Fare         1309 non-null   float64\n",
            " 10  Cabin        1309 non-null   object \n",
            " 11  Embarked     1309 non-null   object \n",
            "dtypes: float64(3), int64(4), object(5)\n",
            "memory usage: 122.8+ KB\n"
          ]
        }
      ],
      "source": [
        "all_data.info() "
      ]
    },
    {
      "cell_type": "markdown",
      "metadata": {
        "id": "9gPdPAa7Fvmr"
      },
      "source": [
        "### Feature Engineering"
      ]
    },
    {
      "cell_type": "markdown",
      "metadata": {
        "id": "VSAEAZk2ZhtF"
      },
      "source": [
        "#### Create a new feature 'Family_Size'\n",
        "- Create a new feature 'Family_Size' using other features (and also adding the person him/herself to the family size). \n",
        "- Then plot a bar chart to show how many of each 'Family_Size' value exists. \n",
        "- Finally plot a bar chart to show the relationship between 'Family_Size' and the 'Survival' "
      ]
    },
    {
      "cell_type": "code",
      "execution_count": 34,
      "metadata": {
        "colab": {
          "base_uri": "https://localhost:8080/",
          "height": 285
        },
        "id": "Y9JtWJi0Qhjt",
        "outputId": "dcc72208-a630-4bce-e8a6-69decb19af90"
      },
      "outputs": [
        {
          "data": {
            "text/plain": [
              "<Axes: >"
            ]
          },
          "execution_count": 34,
          "metadata": {},
          "output_type": "execute_result"
        },
        {
          "data": {
            "image/png": "[encoded data removed]",
            "text/plain": [
              "<Figure size 640x480 with 1 Axes>"
            ]
          },
          "metadata": {},
          "output_type": "display_data"
        }
      ],
      "source": [
        "# Create a new feature by adding SibSp, Parch and the person herself. \n",
        "all_data['Family_Size'] = all_data['SibSp'] + all_data['Parch'] + 1\n",
        "\n",
        "all_data['Family_Size'].value_counts().plot(kind='bar')"
      ]
    },
    {
      "cell_type": "code",
      "execution_count": 35,
      "metadata": {
        "colab": {
          "base_uri": "https://localhost:8080/",
          "height": 300
        },
        "id": "vEx20dCJTEn5",
        "outputId": "ce526543-503e-4cb6-b55d-b5d7baf6f095"
      },
      "outputs": [
        {
          "data": {
            "text/plain": [
              "<Axes: xlabel='Family_Size'>"
            ]
          },
          "execution_count": 35,
          "metadata": {},
          "output_type": "execute_result"
        },
        {
          "data": {
            "image/png": "[encoded data removed]",
            "text/plain": [
              "<Figure size 640x480 with 1 Axes>"
            ]
          },
          "metadata": {},
          "output_type": "display_data"
        }
      ],
      "source": [
        "all_data[['Family_Size','Survived']].groupby('Family_Size')['Survived'].mean().plot(kind='bar')"
      ]
    },
    {
      "cell_type": "markdown",
      "metadata": {
        "id": "cR1B_JwlG_x6"
      },
      "source": [
        "#### Create a new feature 'Fare_Category'\n",
        "- Use qcut method of Pandas for creating 'Fare_Category' field from Fare so that we have 5 categories of Fare. Note that: 1) With qcut We decompose a distribution so that there are (approximately) the same number of cases ineach category. 2) qcut returns categorical data and we need to convert it to string using astype(str). Otherwise one-hot-encoder question below might have issues.\n",
        "- Use value_counts() method to show the results. \n",
        "- Plot a bar chart to show the relationship between 'Fare_Category' and the 'Survival'"
      ]
    },
    {
      "cell_type": "code",
      "execution_count": 36,
      "metadata": {
        "colab": {
          "base_uri": "https://localhost:8080/"
        },
        "id": "tR72lSZ9S0EP",
        "outputId": "d9d8e684-f8de-4792-fc4b-d9a3b2b7ee66"
      },
      "outputs": [
        {
          "data": {
            "text/plain": [
              "(-0.001, 7.854]      275\n",
              "(21.558, 41.579]     265\n",
              "(41.579, 512.329]    259\n",
              "(7.854, 10.5]        255\n",
              "(10.5, 21.558]       255\n",
              "Name: Fare_Category, dtype: int64"
            ]
          },
          "execution_count": 36,
          "metadata": {},
          "output_type": "execute_result"
        }
      ],
      "source": [
        "results_categorical = pd.qcut(all_data['Fare'],5)\n",
        "all_data['Fare_Category'] = pd.Series(results_categorical).astype(str)\n",
        "all_data['Fare_Category'].value_counts()"
      ]
    },
    {
      "cell_type": "code",
      "execution_count": 37,
      "metadata": {
        "colab": {
          "base_uri": "https://localhost:8080/"
        },
        "id": "BowBxCJwTMzn",
        "outputId": "30bfe26e-517d-4ad0-9adc-bb1c22417b85"
      },
      "outputs": [
        {
          "name": "stdout",
          "output_type": "stream",
          "text": [
            "<class 'pandas.core.frame.DataFrame'>\n",
            "RangeIndex: 1309 entries, 0 to 1308\n",
            "Data columns (total 14 columns):\n",
            " #   Column         Non-Null Count  Dtype  \n",
            "---  ------         --------------  -----  \n",
            " 0   PassengerId    1309 non-null   int64  \n",
            " 1   Survived       891 non-null    float64\n",
            " 2   Pclass         1309 non-null   int64  \n",
            " 3   Name           1309 non-null   object \n",
            " 4   Sex            1309 non-null   object \n",
            " 5   Age            1309 non-null   float64\n",
            " 6   SibSp          1309 non-null   int64  \n",
            " 7   Parch          1309 non-null   int64  \n",
            " 8   Ticket         1309 non-null   object \n",
            " 9   Fare           1309 non-null   float64\n",
            " 10  Cabin          1309 non-null   object \n",
            " 11  Embarked       1309 non-null   object \n",
            " 12  Family_Size    1309 non-null   int64  \n",
            " 13  Fare_Category  1309 non-null   object \n",
            "dtypes: float64(3), int64(5), object(6)\n",
            "memory usage: 143.3+ KB\n"
          ]
        }
      ],
      "source": [
        "all_data.info()"
      ]
    },
    {
      "cell_type": "code",
      "execution_count": 38,
      "metadata": {
        "colab": {
          "base_uri": "https://localhost:8080/",
          "height": 378
        },
        "id": "3cgqyMB0Talo",
        "outputId": "6cbf6425-b7e0-4ffb-e853-741ba2308517"
      },
      "outputs": [
        {
          "data": {
            "text/plain": [
              "<Axes: xlabel='Fare_Category'>"
            ]
          },
          "execution_count": 38,
          "metadata": {},
          "output_type": "execute_result"
        },
        {
          "data": {
            "image/png": "[encoded data removed]",
            "text/plain": [
              "<Figure size 640x480 with 1 Axes>"
            ]
          },
          "metadata": {},
          "output_type": "display_data"
        }
      ],
      "source": [
        "all_data[['Fare_Category','Survived']].groupby('Fare_Category')['Survived'].mean().plot(kind='bar')"
      ]
    },
    {
      "cell_type": "markdown",
      "metadata": {
        "id": "58hnI5BCHo7N"
      },
      "source": [
        "#### Create a new feature 'Age_Category'\n",
        "- Use cut method of Pandas for creating 'Age_Category' field from Age so that we have 5 categories of Age. Note that: 1) With cut, the bins are formed based on the values of the variable, regardless of how many cases fall into a category. 2) cut returns categorical data and we need to convert it to string using astype(str). Otherwise one-hot-encoder question below might have issues.\n",
        "\n",
        "- Use value_counts() method to show the results. \n",
        "- Plot a bar chart to show the relationship between 'Age_Category' and the 'Survival'\n"
      ]
    },
    {
      "cell_type": "code",
      "execution_count": 39,
      "metadata": {
        "colab": {
          "base_uri": "https://localhost:8080/"
        },
        "id": "GujRZLmBTgXX",
        "outputId": "98399ddd-c73e-495a-e4e4-a20747bb5320"
      },
      "outputs": [
        {
          "data": {
            "text/plain": [
              "(16.0, 32.0]     752\n",
              "(32.0, 48.0]     304\n",
              "(-0.08, 16.0]    134\n",
              "(48.0, 64.0]     106\n",
              "(64.0, 80.0]      13\n",
              "Name: Age_Category, dtype: int64"
            ]
          },
          "execution_count": 39,
          "metadata": {},
          "output_type": "execute_result"
        }
      ],
      "source": [
        "results_categorical = pd.cut(all_data['Age'].astype(int),5)\n",
        "all_data['Age_Category'] = pd.Series(results_categorical).astype(str)\n",
        "all_data['Age_Category'].value_counts()"
      ]
    },
    {
      "cell_type": "code",
      "execution_count": 40,
      "metadata": {
        "colab": {
          "base_uri": "https://localhost:8080/",
          "height": 349
        },
        "id": "PLImw81JThPm",
        "outputId": "3353ec68-5cd1-4520-f3c3-7a62a86cae22"
      },
      "outputs": [
        {
          "data": {
            "text/plain": [
              "<Axes: xlabel='Age_Category'>"
            ]
          },
          "execution_count": 40,
          "metadata": {},
          "output_type": "execute_result"
        },
        {
          "data": {
            "image/png": "[encoded data removed]",
            "text/plain": [
              "<Figure size 640x480 with 1 Axes>"
            ]
          },
          "metadata": {},
          "output_type": "display_data"
        }
      ],
      "source": [
        "all_data[['Age_Category','Survived']].groupby('Age_Category')['Survived'].mean().plot(kind='bar')"
      ]
    },
    {
      "cell_type": "markdown",
      "metadata": {
        "id": "GN8gQwY0tqDF"
      },
      "source": [
        "## Answer the rest of the questions below:"
      ]
    },
    {
      "cell_type": "markdown",
      "metadata": {
        "id": "FHDDLP94e5HK"
      },
      "source": [
        "### Encoders\n"
      ]
    },
    {
      "cell_type": "markdown",
      "metadata": {
        "id": "fsq00_8fgoSY"
      },
      "source": [
        "#### The following function returns a dataframe with one-hot-encoded columns:\n",
        "The code is adapted from the following article: \n",
        "- https://towardsdatascience.com/machine-learning-with-the-titanic-dataset-7f6909e58280\n",
        "\n",
        "#### Review the function and add comments to each line to explain it. Show that you understand how it works.\n",
        "\n",
        "def encode_category_to_numeric(feature,data_frame):"
      ]
    },
    {
      "cell_type": "code",
      "execution_count": 85,
      "metadata": {
        "id": "-cwc2sQ0UKGU"
      },
      "outputs": [],
      "source": [
        "from sklearn.preprocessing import OneHotEncoder #import OHE and Numpy\n",
        "import numpy as np\n",
        "\n",
        "def encode_category_to_numeric(feature,data_frame): #functinon def taking a given feature and the dataframe it is from\n",
        "  encoded_feat = OneHotEncoder().fit_transform(data_frame[feature].values.reshape(-1,1)).toarray() #encodes the given feature with OHE and moves the results into an array whos shape is comptable with the original shape of the feature\n",
        "  unique_values = data_frame[feature].unique() #filters out unquie values and assigns them \n",
        "  sorted_unique_value = np.sort(unique_values) #sorts the unquie values\n",
        "  cols = ['{}_{}'.format(feature,value) for value in sorted_unique_value] #gets the cols from the sorted unqiue values\n",
        "  encoded_data = pd.DataFrame(encoded_feat, columns=cols) #puts encoded data into the cols within a dataframe gathered from the previous line\n",
        "  return encoded_data #return result"
      ]
    },
    {
      "cell_type": "markdown",
      "metadata": {
        "id": "Q_8hItW3FJDX"
      },
      "source": [
        "#### Create new attributes for the 'Embarked' attribute"
      ]
    },
    {
      "cell_type": "code",
      "execution_count": 42,
      "metadata": {
        "id": "h7-I4xMkCHE0"
      },
      "outputs": [],
      "source": [
        "encoded_embarked = encode_category_to_numeric(\"Embarked\", all_data)\n",
        "all_data = pd.concat([all_data, encoded_embarked], axis=1)"
      ]
    },
    {
      "cell_type": "markdown",
      "metadata": {
        "id": "YRb4iOZxOSWN"
      },
      "source": [
        "#### Create new attributes for the 'Fare_Category' attribute and then concatenate new attributes with the all_data dataframe."
      ]
    },
    {
      "cell_type": "code",
      "execution_count": 43,
      "metadata": {
        "id": "lhVDvWbmVDKx"
      },
      "outputs": [],
      "source": [
        "encoded_fare_category = encode_category_to_numeric(\"Fare_Category\", all_data)\n",
        "all_data = pd.concat([all_data, encoded_fare_category], axis=1)"
      ]
    },
    {
      "cell_type": "markdown",
      "metadata": {
        "id": "BommJmQ9Oeqq"
      },
      "source": [
        "#### Create new attributes for the 'Age_Category' attribute and then concatenate new attributes with the all_data dataframe."
      ]
    },
    {
      "cell_type": "code",
      "execution_count": 44,
      "metadata": {
        "id": "D4IVlbezVLG7"
      },
      "outputs": [],
      "source": [
        "encoded_age_category = encode_category_to_numeric(\"Age_Category\", all_data)\n",
        "all_data = pd.concat([all_data, encoded_age_category], axis=1)"
      ]
    },
    {
      "cell_type": "markdown",
      "metadata": {
        "id": "PnvK2dYzH8fW"
      },
      "source": [
        "#### Create new attributes for the 'Pclass' attribute and then concatenate new attributes with the all_data dataframe."
      ]
    },
    {
      "cell_type": "code",
      "execution_count": 45,
      "metadata": {
        "id": "KiWZFtp2H_vo"
      },
      "outputs": [],
      "source": [
        "encoded_pclass = encode_category_to_numeric(\"Pclass\", all_data)\n",
        "all_data = pd.concat([all_data, encoded_pclass], axis=1)"
      ]
    },
    {
      "cell_type": "code",
      "execution_count": 86,
      "metadata": {},
      "outputs": [
        {
          "name": "stdout",
          "output_type": "stream",
          "text": [
            "<class 'pandas.core.frame.DataFrame'>\n",
            "RangeIndex: 1309 entries, 0 to 1308\n",
            "Data columns (total 32 columns):\n",
            " #   Column                           Non-Null Count  Dtype  \n",
            "---  ------                           --------------  -----  \n",
            " 0   PassengerId                      1309 non-null   int64  \n",
            " 1   Survived                         891 non-null    float64\n",
            " 2   Pclass                           1309 non-null   int64  \n",
            " 3   Name                             1309 non-null   object \n",
            " 4   Sex                              1309 non-null   object \n",
            " 5   Age                              1309 non-null   float64\n",
            " 6   SibSp                            1309 non-null   int64  \n",
            " 7   Parch                            1309 non-null   int64  \n",
            " 8   Ticket                           1309 non-null   object \n",
            " 9   Fare                             1309 non-null   float64\n",
            " 10  Cabin                            1309 non-null   object \n",
            " 11  Embarked                         1309 non-null   object \n",
            " 12  Family_Size                      1309 non-null   int64  \n",
            " 13  Fare_Category                    1309 non-null   object \n",
            " 14  Age_Category                     1309 non-null   object \n",
            " 15  Embarked_C                       1309 non-null   float64\n",
            " 16  Embarked_Q                       1309 non-null   float64\n",
            " 17  Embarked_S                       1309 non-null   float64\n",
            " 18  Fare_Category_(-0.001, 7.854]    1309 non-null   float64\n",
            " 19  Fare_Category_(10.5, 21.558]     1309 non-null   float64\n",
            " 20  Fare_Category_(21.558, 41.579]   1309 non-null   float64\n",
            " 21  Fare_Category_(41.579, 512.329]  1309 non-null   float64\n",
            " 22  Fare_Category_(7.854, 10.5]      1309 non-null   float64\n",
            " 23  Age_Category_(-0.08, 16.0]       1309 non-null   float64\n",
            " 24  Age_Category_(16.0, 32.0]        1309 non-null   float64\n",
            " 25  Age_Category_(32.0, 48.0]        1309 non-null   float64\n",
            " 26  Age_Category_(48.0, 64.0]        1309 non-null   float64\n",
            " 27  Age_Category_(64.0, 80.0]        1309 non-null   float64\n",
            " 28  Pclass_1                         1309 non-null   float64\n",
            " 29  Pclass_2                         1309 non-null   float64\n",
            " 30  Pclass_3                         1309 non-null   float64\n",
            " 31  Sex_Numeric                      1309 non-null   int64  \n",
            "dtypes: float64(19), int64(6), object(7)\n",
            "memory usage: 327.4+ KB\n"
          ]
        }
      ],
      "source": [
        "all_data.info()"
      ]
    },
    {
      "cell_type": "markdown",
      "metadata": {
        "id": "l_qBVUXyZahG"
      },
      "source": [
        "### Using LabelEncoder, create the 'Sex_Numeric' based on the values of the 'Sex' attribute."
      ]
    },
    {
      "cell_type": "code",
      "execution_count": 47,
      "metadata": {
        "id": "SHHQDVrUT5V4"
      },
      "outputs": [],
      "source": [
        "from sklearn import preprocessing\n",
        "\n",
        "\n",
        "le = preprocessing.LabelEncoder()\n",
        "Sex_Numeric = le.fit_transform(all_data[\"Sex\"])\n",
        "all_data[\"Sex_Numeric\"] = Sex_Numeric\n"
      ]
    },
    {
      "cell_type": "markdown",
      "metadata": {
        "id": "K02HToEsHiGq"
      },
      "source": [
        "### Calculate the correlations"
      ]
    },
    {
      "cell_type": "code",
      "execution_count": 48,
      "metadata": {
        "id": "uKyLwLDDHfxL"
      },
      "outputs": [
        {
          "name": "stderr",
          "output_type": "stream",
          "text": [
            "/tmp/ipykernel_23996/552797773.py:1: FutureWarning: The default value of numeric_only in DataFrame.corr is deprecated. In a future version, it will default to False. Select only valid columns or specify the value of numeric_only to silence this warning.\n",
            "  corr_matrix = all_data.corr()\n"
          ]
        },
        {
          "data": {
            "text/plain": [
              "Survived                           1.000000\n",
              "Pclass_1                           0.285904\n",
              "Fare_Category_(41.579, 512.329]    0.263007\n",
              "Fare                               0.257307\n",
              "Embarked_C                         0.168240\n",
              "Age_Category_(-0.08, 16.0]         0.121485\n",
              "Pclass_2                           0.093349\n",
              "Parch                              0.081629\n",
              "Fare_Category_(21.558, 41.579]     0.062529\n",
              "Fare_Category_(10.5, 21.558]       0.043153\n",
              "Age_Category_(32.0, 48.0]          0.032801\n",
              "Age_Category_(48.0, 64.0]          0.030350\n",
              "Family_Size                        0.016639\n",
              "Embarked_Q                         0.003650\n",
              "PassengerId                       -0.005007\n",
              "SibSp                             -0.035322\n",
              "Age                               -0.058635\n",
              "Age_Category_(64.0, 80.0]         -0.067344\n",
              "Age_Category_(16.0, 32.0]         -0.106821\n",
              "Embarked_S                        -0.149683\n",
              "Fare_Category_(-0.001, 7.854]     -0.171109\n",
              "Fare_Category_(7.854, 10.5]       -0.191707\n",
              "Pclass_3                          -0.322308\n",
              "Pclass                            -0.338481\n",
              "Sex_Numeric                       -0.543351\n",
              "Name: Survived, dtype: float64"
            ]
          },
          "execution_count": 48,
          "metadata": {},
          "output_type": "execute_result"
        }
      ],
      "source": [
        "corr_matrix = all_data.corr()\n",
        "corr_matrix[\"Survived\"].sort_values(ascending=False)"
      ]
    },
    {
      "cell_type": "markdown",
      "metadata": {
        "id": "4y7bftNkIRDA"
      },
      "source": [
        "### Based on the correlation matrix results, identify some of the features as unimportant and drop them and assign the remaining DataFrame to the variable named 'important_data'. When you drop features, leave at least 10 columns besides 'Survivided' in the 'important_data' DataFrame. After that, check the correlation to 'Survived' as you did before."
      ]
    },
    {
      "cell_type": "code",
      "execution_count": 87,
      "metadata": {
        "id": "Uh5V0H44IS2o"
      },
      "outputs": [
        {
          "name": "stdout",
          "output_type": "stream",
          "text": [
            "<class 'pandas.core.frame.DataFrame'>\n",
            "RangeIndex: 1309 entries, 0 to 1308\n",
            "Data columns (total 11 columns):\n",
            " #   Column                           Non-Null Count  Dtype  \n",
            "---  ------                           --------------  -----  \n",
            " 0   Survived                         891 non-null    float64\n",
            " 1   Pclass_1                         1309 non-null   float64\n",
            " 2   Fare_Category_(41.579, 512.329]  1309 non-null   float64\n",
            " 3   Fare                             1309 non-null   float64\n",
            " 4   Embarked_C                       1309 non-null   float64\n",
            " 5   Age_Category_(-0.08, 16.0]       1309 non-null   float64\n",
            " 6   Pclass_2                         1309 non-null   float64\n",
            " 7   Parch                            1309 non-null   int64  \n",
            " 8   Fare_Category_(21.558, 41.579]   1309 non-null   float64\n",
            " 9   Fare_Category_(10.5, 21.558]     1309 non-null   float64\n",
            " 10  Age_Category_(32.0, 48.0]        1309 non-null   float64\n",
            "dtypes: float64(10), int64(1)\n",
            "memory usage: 112.6 KB\n"
          ]
        }
      ],
      "source": [
        "important_data = all_data[[\"Survived\", \"Pclass_1\", \"Fare_Category_(41.579, 512.329]\", \"Fare\", \"Embarked_C\", \"Age_Category_(-0.08, 16.0]\", \"Pclass_2\", \"Parch\", \"Fare_Category_(21.558, 41.579]\", \"Fare_Category_(10.5, 21.558]\", \"Age_Category_(32.0, 48.0]\"]]\n",
        "important_data.info()"
      ]
    },
    {
      "cell_type": "code",
      "execution_count": 50,
      "metadata": {
        "id": "bK_has4_IYAs"
      },
      "outputs": [
        {
          "data": {
            "text/plain": [
              "Survived                           1.000000\n",
              "Pclass_1                           0.285904\n",
              "Fare_Category_(41.579, 512.329]    0.263007\n",
              "Fare                               0.257307\n",
              "Embarked_C                         0.168240\n",
              "Age_Category_(-0.08, 16.0]         0.121485\n",
              "Pclass_2                           0.093349\n",
              "Parch                              0.081629\n",
              "Fare_Category_(21.558, 41.579]     0.062529\n",
              "Fare_Category_(10.5, 21.558]       0.043153\n",
              "Age_Category_(32.0, 48.0]          0.032801\n",
              "Name: Survived, dtype: float64"
            ]
          },
          "execution_count": 50,
          "metadata": {},
          "output_type": "execute_result"
        }
      ],
      "source": [
        "important_data.corr()[\"Survived\"].sort_values(ascending=False)\n"
      ]
    },
    {
      "cell_type": "markdown",
      "metadata": {
        "id": "rNpU-bvcIgZI"
      },
      "source": [
        "### Create X_train, Y_train and X_test DataFrames. Note that X_train should 891 instances and the rest should go to X_test. Drop the 'Survived' from X_test. Check the X_train, X_test and Y_train."
      ]
    },
    {
      "cell_type": "code",
      "execution_count": 51,
      "metadata": {
        "id": "vt5PG-7mImVU"
      },
      "outputs": [],
      "source": [
        "X_train = important_data.drop(columns=\"Survived\").iloc[:891]\n",
        "X_test = important_data.drop(columns=\"Survived\").iloc[891:]\n",
        "Y_train = important_data['Survived'].iloc[:891]"
      ]
    },
    {
      "cell_type": "code",
      "execution_count": 52,
      "metadata": {
        "id": "kWAtuHXMIpYz"
      },
      "outputs": [
        {
          "data": {
            "text/html": [
              "<div>\n",
              "<style scoped>\n",
              "    .dataframe tbody tr th:only-of-type {\n",
              "        vertical-align: middle;\n",
              "    }\n",
              "\n",
              "    .dataframe tbody tr th {\n",
              "        vertical-align: top;\n",
              "    }\n",
              "\n",
              "    .dataframe thead th {\n",
              "        text-align: right;\n",
              "    }\n",
              "</style>\n",
              "<table border=\"1\" class=\"dataframe\">\n",
              "  <thead>\n",
              "    <tr style=\"text-align: right;\">\n",
              "      <th></th>\n",
              "      <th>Pclass_1</th>\n",
              "      <th>Fare_Category_(41.579, 512.329]</th>\n",
              "      <th>Fare</th>\n",
              "      <th>Embarked_C</th>\n",
              "      <th>Age_Category_(-0.08, 16.0]</th>\n",
              "      <th>Pclass_2</th>\n",
              "      <th>Parch</th>\n",
              "      <th>Fare_Category_(21.558, 41.579]</th>\n",
              "      <th>Fare_Category_(10.5, 21.558]</th>\n",
              "      <th>Age_Category_(32.0, 48.0]</th>\n",
              "    </tr>\n",
              "  </thead>\n",
              "  <tbody>\n",
              "    <tr>\n",
              "      <th>0</th>\n",
              "      <td>0.0</td>\n",
              "      <td>0.0</td>\n",
              "      <td>7.2500</td>\n",
              "      <td>0.0</td>\n",
              "      <td>0.0</td>\n",
              "      <td>0.0</td>\n",
              "      <td>0</td>\n",
              "      <td>0.0</td>\n",
              "      <td>0.0</td>\n",
              "      <td>0.0</td>\n",
              "    </tr>\n",
              "    <tr>\n",
              "      <th>1</th>\n",
              "      <td>1.0</td>\n",
              "      <td>1.0</td>\n",
              "      <td>71.2833</td>\n",
              "      <td>1.0</td>\n",
              "      <td>0.0</td>\n",
              "      <td>0.0</td>\n",
              "      <td>0</td>\n",
              "      <td>0.0</td>\n",
              "      <td>0.0</td>\n",
              "      <td>1.0</td>\n",
              "    </tr>\n",
              "    <tr>\n",
              "      <th>2</th>\n",
              "      <td>0.0</td>\n",
              "      <td>0.0</td>\n",
              "      <td>7.9250</td>\n",
              "      <td>0.0</td>\n",
              "      <td>0.0</td>\n",
              "      <td>0.0</td>\n",
              "      <td>0</td>\n",
              "      <td>0.0</td>\n",
              "      <td>0.0</td>\n",
              "      <td>0.0</td>\n",
              "    </tr>\n",
              "    <tr>\n",
              "      <th>3</th>\n",
              "      <td>1.0</td>\n",
              "      <td>1.0</td>\n",
              "      <td>53.1000</td>\n",
              "      <td>0.0</td>\n",
              "      <td>0.0</td>\n",
              "      <td>0.0</td>\n",
              "      <td>0</td>\n",
              "      <td>0.0</td>\n",
              "      <td>0.0</td>\n",
              "      <td>1.0</td>\n",
              "    </tr>\n",
              "    <tr>\n",
              "      <th>4</th>\n",
              "      <td>0.0</td>\n",
              "      <td>0.0</td>\n",
              "      <td>8.0500</td>\n",
              "      <td>0.0</td>\n",
              "      <td>0.0</td>\n",
              "      <td>0.0</td>\n",
              "      <td>0</td>\n",
              "      <td>0.0</td>\n",
              "      <td>0.0</td>\n",
              "      <td>1.0</td>\n",
              "    </tr>\n",
              "    <tr>\n",
              "      <th>...</th>\n",
              "      <td>...</td>\n",
              "      <td>...</td>\n",
              "      <td>...</td>\n",
              "      <td>...</td>\n",
              "      <td>...</td>\n",
              "      <td>...</td>\n",
              "      <td>...</td>\n",
              "      <td>...</td>\n",
              "      <td>...</td>\n",
              "      <td>...</td>\n",
              "    </tr>\n",
              "    <tr>\n",
              "      <th>886</th>\n",
              "      <td>0.0</td>\n",
              "      <td>0.0</td>\n",
              "      <td>13.0000</td>\n",
              "      <td>0.0</td>\n",
              "      <td>0.0</td>\n",
              "      <td>1.0</td>\n",
              "      <td>0</td>\n",
              "      <td>0.0</td>\n",
              "      <td>1.0</td>\n",
              "      <td>0.0</td>\n",
              "    </tr>\n",
              "    <tr>\n",
              "      <th>887</th>\n",
              "      <td>1.0</td>\n",
              "      <td>0.0</td>\n",
              "      <td>30.0000</td>\n",
              "      <td>0.0</td>\n",
              "      <td>0.0</td>\n",
              "      <td>0.0</td>\n",
              "      <td>0</td>\n",
              "      <td>1.0</td>\n",
              "      <td>0.0</td>\n",
              "      <td>0.0</td>\n",
              "    </tr>\n",
              "    <tr>\n",
              "      <th>888</th>\n",
              "      <td>0.0</td>\n",
              "      <td>0.0</td>\n",
              "      <td>23.4500</td>\n",
              "      <td>0.0</td>\n",
              "      <td>0.0</td>\n",
              "      <td>0.0</td>\n",
              "      <td>2</td>\n",
              "      <td>1.0</td>\n",
              "      <td>0.0</td>\n",
              "      <td>0.0</td>\n",
              "    </tr>\n",
              "    <tr>\n",
              "      <th>889</th>\n",
              "      <td>1.0</td>\n",
              "      <td>0.0</td>\n",
              "      <td>30.0000</td>\n",
              "      <td>1.0</td>\n",
              "      <td>0.0</td>\n",
              "      <td>0.0</td>\n",
              "      <td>0</td>\n",
              "      <td>1.0</td>\n",
              "      <td>0.0</td>\n",
              "      <td>0.0</td>\n",
              "    </tr>\n",
              "    <tr>\n",
              "      <th>890</th>\n",
              "      <td>0.0</td>\n",
              "      <td>0.0</td>\n",
              "      <td>7.7500</td>\n",
              "      <td>0.0</td>\n",
              "      <td>0.0</td>\n",
              "      <td>0.0</td>\n",
              "      <td>0</td>\n",
              "      <td>0.0</td>\n",
              "      <td>0.0</td>\n",
              "      <td>0.0</td>\n",
              "    </tr>\n",
              "  </tbody>\n",
              "</table>\n",
              "<p>891 rows × 10 columns</p>\n",
              "</div>"
            ],
            "text/plain": [
              "     Pclass_1  Fare_Category_(41.579, 512.329]     Fare  Embarked_C  \\\n",
              "0         0.0                              0.0   7.2500         0.0   \n",
              "1         1.0                              1.0  71.2833         1.0   \n",
              "2         0.0                              0.0   7.9250         0.0   \n",
              "3         1.0                              1.0  53.1000         0.0   \n",
              "4         0.0                              0.0   8.0500         0.0   \n",
              "..        ...                              ...      ...         ...   \n",
              "886       0.0                              0.0  13.0000         0.0   \n",
              "887       1.0                              0.0  30.0000         0.0   \n",
              "888       0.0                              0.0  23.4500         0.0   \n",
              "889       1.0                              0.0  30.0000         1.0   \n",
              "890       0.0                              0.0   7.7500         0.0   \n",
              "\n",
              "     Age_Category_(-0.08, 16.0]  Pclass_2  Parch  \\\n",
              "0                           0.0       0.0      0   \n",
              "1                           0.0       0.0      0   \n",
              "2                           0.0       0.0      0   \n",
              "3                           0.0       0.0      0   \n",
              "4                           0.0       0.0      0   \n",
              "..                          ...       ...    ...   \n",
              "886                         0.0       1.0      0   \n",
              "887                         0.0       0.0      0   \n",
              "888                         0.0       0.0      2   \n",
              "889                         0.0       0.0      0   \n",
              "890                         0.0       0.0      0   \n",
              "\n",
              "     Fare_Category_(21.558, 41.579]  Fare_Category_(10.5, 21.558]  \\\n",
              "0                               0.0                           0.0   \n",
              "1                               0.0                           0.0   \n",
              "2                               0.0                           0.0   \n",
              "3                               0.0                           0.0   \n",
              "4                               0.0                           0.0   \n",
              "..                              ...                           ...   \n",
              "886                             0.0                           1.0   \n",
              "887                             1.0                           0.0   \n",
              "888                             1.0                           0.0   \n",
              "889                             1.0                           0.0   \n",
              "890                             0.0                           0.0   \n",
              "\n",
              "     Age_Category_(32.0, 48.0]  \n",
              "0                          0.0  \n",
              "1                          1.0  \n",
              "2                          0.0  \n",
              "3                          1.0  \n",
              "4                          1.0  \n",
              "..                         ...  \n",
              "886                        0.0  \n",
              "887                        0.0  \n",
              "888                        0.0  \n",
              "889                        0.0  \n",
              "890                        0.0  \n",
              "\n",
              "[891 rows x 10 columns]"
            ]
          },
          "execution_count": 52,
          "metadata": {},
          "output_type": "execute_result"
        }
      ],
      "source": [
        "X_train"
      ]
    },
    {
      "cell_type": "code",
      "execution_count": 53,
      "metadata": {},
      "outputs": [
        {
          "data": {
            "text/html": [
              "<div>\n",
              "<style scoped>\n",
              "    .dataframe tbody tr th:only-of-type {\n",
              "        vertical-align: middle;\n",
              "    }\n",
              "\n",
              "    .dataframe tbody tr th {\n",
              "        vertical-align: top;\n",
              "    }\n",
              "\n",
              "    .dataframe thead th {\n",
              "        text-align: right;\n",
              "    }\n",
              "</style>\n",
              "<table border=\"1\" class=\"dataframe\">\n",
              "  <thead>\n",
              "    <tr style=\"text-align: right;\">\n",
              "      <th></th>\n",
              "      <th>Pclass_1</th>\n",
              "      <th>Fare_Category_(41.579, 512.329]</th>\n",
              "      <th>Fare</th>\n",
              "      <th>Embarked_C</th>\n",
              "      <th>Age_Category_(-0.08, 16.0]</th>\n",
              "      <th>Pclass_2</th>\n",
              "      <th>Parch</th>\n",
              "      <th>Fare_Category_(21.558, 41.579]</th>\n",
              "      <th>Fare_Category_(10.5, 21.558]</th>\n",
              "      <th>Age_Category_(32.0, 48.0]</th>\n",
              "    </tr>\n",
              "  </thead>\n",
              "  <tbody>\n",
              "    <tr>\n",
              "      <th>891</th>\n",
              "      <td>0.0</td>\n",
              "      <td>0.0</td>\n",
              "      <td>7.8292</td>\n",
              "      <td>0.0</td>\n",
              "      <td>0.0</td>\n",
              "      <td>0.0</td>\n",
              "      <td>0</td>\n",
              "      <td>0.0</td>\n",
              "      <td>0.0</td>\n",
              "      <td>1.0</td>\n",
              "    </tr>\n",
              "    <tr>\n",
              "      <th>892</th>\n",
              "      <td>0.0</td>\n",
              "      <td>0.0</td>\n",
              "      <td>7.0000</td>\n",
              "      <td>0.0</td>\n",
              "      <td>0.0</td>\n",
              "      <td>0.0</td>\n",
              "      <td>0</td>\n",
              "      <td>0.0</td>\n",
              "      <td>0.0</td>\n",
              "      <td>1.0</td>\n",
              "    </tr>\n",
              "    <tr>\n",
              "      <th>893</th>\n",
              "      <td>0.0</td>\n",
              "      <td>0.0</td>\n",
              "      <td>9.6875</td>\n",
              "      <td>0.0</td>\n",
              "      <td>0.0</td>\n",
              "      <td>1.0</td>\n",
              "      <td>0</td>\n",
              "      <td>0.0</td>\n",
              "      <td>0.0</td>\n",
              "      <td>0.0</td>\n",
              "    </tr>\n",
              "    <tr>\n",
              "      <th>894</th>\n",
              "      <td>0.0</td>\n",
              "      <td>0.0</td>\n",
              "      <td>8.6625</td>\n",
              "      <td>0.0</td>\n",
              "      <td>0.0</td>\n",
              "      <td>0.0</td>\n",
              "      <td>0</td>\n",
              "      <td>0.0</td>\n",
              "      <td>0.0</td>\n",
              "      <td>0.0</td>\n",
              "    </tr>\n",
              "    <tr>\n",
              "      <th>895</th>\n",
              "      <td>0.0</td>\n",
              "      <td>0.0</td>\n",
              "      <td>12.2875</td>\n",
              "      <td>0.0</td>\n",
              "      <td>0.0</td>\n",
              "      <td>0.0</td>\n",
              "      <td>1</td>\n",
              "      <td>0.0</td>\n",
              "      <td>1.0</td>\n",
              "      <td>0.0</td>\n",
              "    </tr>\n",
              "    <tr>\n",
              "      <th>...</th>\n",
              "      <td>...</td>\n",
              "      <td>...</td>\n",
              "      <td>...</td>\n",
              "      <td>...</td>\n",
              "      <td>...</td>\n",
              "      <td>...</td>\n",
              "      <td>...</td>\n",
              "      <td>...</td>\n",
              "      <td>...</td>\n",
              "      <td>...</td>\n",
              "    </tr>\n",
              "    <tr>\n",
              "      <th>1304</th>\n",
              "      <td>0.0</td>\n",
              "      <td>0.0</td>\n",
              "      <td>8.0500</td>\n",
              "      <td>0.0</td>\n",
              "      <td>0.0</td>\n",
              "      <td>0.0</td>\n",
              "      <td>0</td>\n",
              "      <td>0.0</td>\n",
              "      <td>0.0</td>\n",
              "      <td>0.0</td>\n",
              "    </tr>\n",
              "    <tr>\n",
              "      <th>1305</th>\n",
              "      <td>1.0</td>\n",
              "      <td>1.0</td>\n",
              "      <td>108.9000</td>\n",
              "      <td>1.0</td>\n",
              "      <td>0.0</td>\n",
              "      <td>0.0</td>\n",
              "      <td>0</td>\n",
              "      <td>0.0</td>\n",
              "      <td>0.0</td>\n",
              "      <td>1.0</td>\n",
              "    </tr>\n",
              "    <tr>\n",
              "      <th>1306</th>\n",
              "      <td>0.0</td>\n",
              "      <td>0.0</td>\n",
              "      <td>7.2500</td>\n",
              "      <td>0.0</td>\n",
              "      <td>0.0</td>\n",
              "      <td>0.0</td>\n",
              "      <td>0</td>\n",
              "      <td>0.0</td>\n",
              "      <td>0.0</td>\n",
              "      <td>1.0</td>\n",
              "    </tr>\n",
              "    <tr>\n",
              "      <th>1307</th>\n",
              "      <td>0.0</td>\n",
              "      <td>0.0</td>\n",
              "      <td>8.0500</td>\n",
              "      <td>0.0</td>\n",
              "      <td>0.0</td>\n",
              "      <td>0.0</td>\n",
              "      <td>0</td>\n",
              "      <td>0.0</td>\n",
              "      <td>0.0</td>\n",
              "      <td>0.0</td>\n",
              "    </tr>\n",
              "    <tr>\n",
              "      <th>1308</th>\n",
              "      <td>0.0</td>\n",
              "      <td>0.0</td>\n",
              "      <td>22.3583</td>\n",
              "      <td>1.0</td>\n",
              "      <td>0.0</td>\n",
              "      <td>0.0</td>\n",
              "      <td>1</td>\n",
              "      <td>1.0</td>\n",
              "      <td>0.0</td>\n",
              "      <td>0.0</td>\n",
              "    </tr>\n",
              "  </tbody>\n",
              "</table>\n",
              "<p>418 rows × 10 columns</p>\n",
              "</div>"
            ],
            "text/plain": [
              "      Pclass_1  Fare_Category_(41.579, 512.329]      Fare  Embarked_C  \\\n",
              "891        0.0                              0.0    7.8292         0.0   \n",
              "892        0.0                              0.0    7.0000         0.0   \n",
              "893        0.0                              0.0    9.6875         0.0   \n",
              "894        0.0                              0.0    8.6625         0.0   \n",
              "895        0.0                              0.0   12.2875         0.0   \n",
              "...        ...                              ...       ...         ...   \n",
              "1304       0.0                              0.0    8.0500         0.0   \n",
              "1305       1.0                              1.0  108.9000         1.0   \n",
              "1306       0.0                              0.0    7.2500         0.0   \n",
              "1307       0.0                              0.0    8.0500         0.0   \n",
              "1308       0.0                              0.0   22.3583         1.0   \n",
              "\n",
              "      Age_Category_(-0.08, 16.0]  Pclass_2  Parch  \\\n",
              "891                          0.0       0.0      0   \n",
              "892                          0.0       0.0      0   \n",
              "893                          0.0       1.0      0   \n",
              "894                          0.0       0.0      0   \n",
              "895                          0.0       0.0      1   \n",
              "...                          ...       ...    ...   \n",
              "1304                         0.0       0.0      0   \n",
              "1305                         0.0       0.0      0   \n",
              "1306                         0.0       0.0      0   \n",
              "1307                         0.0       0.0      0   \n",
              "1308                         0.0       0.0      1   \n",
              "\n",
              "      Fare_Category_(21.558, 41.579]  Fare_Category_(10.5, 21.558]  \\\n",
              "891                              0.0                           0.0   \n",
              "892                              0.0                           0.0   \n",
              "893                              0.0                           0.0   \n",
              "894                              0.0                           0.0   \n",
              "895                              0.0                           1.0   \n",
              "...                              ...                           ...   \n",
              "1304                             0.0                           0.0   \n",
              "1305                             0.0                           0.0   \n",
              "1306                             0.0                           0.0   \n",
              "1307                             0.0                           0.0   \n",
              "1308                             1.0                           0.0   \n",
              "\n",
              "      Age_Category_(32.0, 48.0]  \n",
              "891                         1.0  \n",
              "892                         1.0  \n",
              "893                         0.0  \n",
              "894                         0.0  \n",
              "895                         0.0  \n",
              "...                         ...  \n",
              "1304                        0.0  \n",
              "1305                        1.0  \n",
              "1306                        1.0  \n",
              "1307                        0.0  \n",
              "1308                        0.0  \n",
              "\n",
              "[418 rows x 10 columns]"
            ]
          },
          "execution_count": 53,
          "metadata": {},
          "output_type": "execute_result"
        }
      ],
      "source": [
        "X_test"
      ]
    },
    {
      "cell_type": "markdown",
      "metadata": {
        "id": "vLfaYmQ6J7JL"
      },
      "source": [
        "### For each of the algorithms, use Scikit-Learn's cross-validation feature to measure the performance and print out mean and std for each algoritm:\n",
        "\n",
        "1. Stochastic Gradient Descent (SGD)\n",
        "2. LogisticRegression\n",
        "3. Support Vector Machine (kernel='linear' parameter)\n",
        "4. Support Vector Machine (kernel = 'rbf' parameter)\n",
        "5. DecisionTreeClassifier\n",
        "6. RandomForestClassifier\n",
        "7. ExtraTreesClassifier\n",
        "8. AdaBoostClassifier\n",
        "9. GradientBoostingClassifier\n",
        "10. XGBoost\n",
        "-- You can import XGBoost library as follows:  \"from xgboost import XGBClassifier\"\n",
        "-- You will need to rename the columns to make the XGBoost work\n",
        "\n",
        "Parameters:\n",
        "- Set the scoring parameter of cross-validation to 'f1'\n",
        "- Use the default cv = 5 parameter of cross-validation\n",
        "- Use random_state = 42 for initializing model algorithms\n",
        "- Use the kernel parameter indicated above for SVM algorithms\n",
        "- Use a solver parameter that works for the logistic regression\n",
        "- For others, use the default parameters (no need to specify explicitly)\n",
        "\n"
      ]
    },
    {
      "cell_type": "code",
      "execution_count": 54,
      "metadata": {},
      "outputs": [],
      "source": [
        "X_train = X_train.rename(columns={\"Fare_Category_(41.579, 512.329]\": \"Fare_Category_(41.579 512.329)\"})\n",
        "X_train = X_train.rename(columns={\"Age_Category_(-0.08, 16.0]\": \"Age_Category_(-0.08 16.0)\"})\n",
        "X_train = X_train.rename(columns={\"Fare_Category_(21.558, 41.579]\": \"Fare_Category_(21.558 41.579)\"})\n",
        "X_train = X_train.rename(columns={\"Fare_Category_(10.5, 21.558]\": \"Fare_Category_(10.5 21.558)\"})\n",
        "X_train = X_train.rename(columns={\"Age_Category_(32.0, 48.0]\": \"Age_Category_(32.0 48.0)\"})\n",
        "\n",
        "X_test = X_test.rename(columns={\"Fare_Category_(41.579, 512.329]\": \"Fare_Category_(41.579 512.329)\"})\n",
        "X_test = X_test.rename(columns={\"Age_Category_(-0.08, 16.0]\": \"Age_Category_(-0.08 16.0)\"})\n",
        "X_test = X_test.rename(columns={\"Fare_Category_(21.558, 41.579]\": \"Fare_Category_(21.558 41.579)\"})\n",
        "X_test = X_test.rename(columns={\"Fare_Category_(10.5, 21.558]\": \"Fare_Category_(10.5 21.558)\"})\n",
        "X_test = X_test.rename(columns={\"Age_Category_(32.0, 48.0]\": \"Age_Category_(32.0 48.0)\"})\n",
        "\n"
      ]
    },
    {
      "cell_type": "code",
      "execution_count": 55,
      "metadata": {
        "id": "ZPGG9XWlKMd2"
      },
      "outputs": [],
      "source": [
        "from sklearn.linear_model import SGDClassifier\n",
        "from sklearn.model_selection import cross_val_score\n",
        "\n",
        "sgd = SGDClassifier(random_state=42)\n",
        "sgd_cv_scores = cross_val_score(sgd, X_train, Y_train, cv=5, scoring=\"f1\")\n",
        "\n",
        "sgd_std = np.mean(sgd_cv_scores)\n",
        "sgd_mean = np.std(sgd_cv_scores)"
      ]
    },
    {
      "cell_type": "code",
      "execution_count": 56,
      "metadata": {
        "id": "1WAKIt3EKPpS"
      },
      "outputs": [],
      "source": [
        "from sklearn.linear_model import LogisticRegression\n",
        "\n",
        "logr = LogisticRegression(random_state=42, solver=\"liblinear\")\n",
        "logr_cv_scores = cross_val_score(logr, X_train, Y_train, cv=5, scoring=\"f1\")\n",
        "\n",
        "logr_std = np.mean(logr_cv_scores)\n",
        "logr_mean = np.std(logr_cv_scores)\n"
      ]
    },
    {
      "cell_type": "code",
      "execution_count": 57,
      "metadata": {
        "id": "2Ip6aBYzKRO_"
      },
      "outputs": [],
      "source": [
        "from sklearn.svm import SVC\n",
        "\n",
        "svm_lin = SVC(kernel=\"linear\", random_state=42)\n",
        "svm_lin_cv_scores = cross_val_score(svm_lin, X_train, Y_train, cv=5)\n",
        "\n",
        "svm_lin_mean = np.mean(svm_lin_cv_scores)\n",
        "svm_lin_std = np.std(svm_lin_cv_scores)"
      ]
    },
    {
      "cell_type": "code",
      "execution_count": 58,
      "metadata": {
        "id": "sZ_PPeB2KT-e"
      },
      "outputs": [],
      "source": [
        "svm_rbf = SVC(kernel=\"rbf\", random_state=42)\n",
        "svm_rbf_cv_scores = cross_val_score(svm_rbf, X_train, Y_train, cv=5)\n",
        "\n",
        "svm_rbf_mean = np.mean(svm_rbf_cv_scores)\n",
        "svm_rbf_std = np.std(svm_rbf_cv_scores)"
      ]
    },
    {
      "cell_type": "code",
      "execution_count": 59,
      "metadata": {
        "id": "50ts1xbkKWKw"
      },
      "outputs": [],
      "source": [
        "from sklearn.tree import DecisionTreeClassifier\n",
        "\n",
        "dtc = DecisionTreeClassifier(random_state=42)\n",
        "dtc_cv_scores = cross_val_score(dtc, X_train, Y_train, cv=5, scoring=\"f1\")\n",
        "\n",
        "dtc_mean = np.mean(dtc_cv_scores)\n",
        "dtc_std = np.std(dtc_cv_scores)"
      ]
    },
    {
      "cell_type": "code",
      "execution_count": 60,
      "metadata": {
        "id": "8UJaClEqKYHL"
      },
      "outputs": [],
      "source": [
        "from sklearn.ensemble import RandomForestClassifier\n",
        "\n",
        "rfc = RandomForestClassifier(random_state=42)\n",
        "rfc_cv_scores = cross_val_score(rfc, X_train, Y_train, cv=5, scoring=\"f1\")\n",
        "\n",
        "rfc_mean = np.mean(rfc_cv_scores)\n",
        "rfc_std = np.std(rfc_cv_scores)"
      ]
    },
    {
      "cell_type": "code",
      "execution_count": 61,
      "metadata": {
        "id": "ooWjsUWDKZ75"
      },
      "outputs": [],
      "source": [
        "from sklearn.tree import ExtraTreeClassifier\n",
        "\n",
        "etc = ExtraTreeClassifier(random_state=42)\n",
        "etc_cv_scores = cross_val_score(etc, X_train, Y_train, cv=5, scoring=\"f1\")\n",
        "\n",
        "etc_mean = np.mean(etc_cv_scores)\n",
        "etc_std = np.std(etc_cv_scores)"
      ]
    },
    {
      "cell_type": "code",
      "execution_count": 62,
      "metadata": {
        "id": "MptQxpIYKcEA"
      },
      "outputs": [],
      "source": [
        "from sklearn.ensemble import AdaBoostClassifier\n",
        "\n",
        "abc = AdaBoostClassifier(random_state=42)\n",
        "abc_cv_scores = cross_val_score(abc, X_train, Y_train, cv=5, scoring=\"f1\")\n",
        "\n",
        "abc_mean = np.mean(abc_cv_scores)\n",
        "abc_std = np.std(abc_cv_scores)"
      ]
    },
    {
      "cell_type": "code",
      "execution_count": 63,
      "metadata": {
        "id": "VCGvcFmMKeN-"
      },
      "outputs": [],
      "source": [
        "from sklearn.ensemble import GradientBoostingClassifier\n",
        "\n",
        "gbc = GradientBoostingClassifier(random_state=42)\n",
        "gbc_cv_scores = cross_val_score(gbc, X_train, Y_train, cv=5, scoring=\"f1\")\n",
        "\n",
        "gbc_mean = np.mean(gbc_cv_scores)\n",
        "gbc_std = np.std(gbc_cv_scores)"
      ]
    },
    {
      "cell_type": "code",
      "execution_count": 64,
      "metadata": {},
      "outputs": [
        {
          "data": {
            "text/html": [
              "<div>\n",
              "<style scoped>\n",
              "    .dataframe tbody tr th:only-of-type {\n",
              "        vertical-align: middle;\n",
              "    }\n",
              "\n",
              "    .dataframe tbody tr th {\n",
              "        vertical-align: top;\n",
              "    }\n",
              "\n",
              "    .dataframe thead th {\n",
              "        text-align: right;\n",
              "    }\n",
              "</style>\n",
              "<table border=\"1\" class=\"dataframe\">\n",
              "  <thead>\n",
              "    <tr style=\"text-align: right;\">\n",
              "      <th></th>\n",
              "      <th>Pclass_1</th>\n",
              "      <th>Fare_Category_(41.579 512.329)</th>\n",
              "      <th>Fare</th>\n",
              "      <th>Embarked_C</th>\n",
              "      <th>Age_Category_(-0.08 16.0)</th>\n",
              "      <th>Pclass_2</th>\n",
              "      <th>Parch</th>\n",
              "      <th>Fare_Category_(21.558 41.579)</th>\n",
              "      <th>Fare_Category_(10.5 21.558)</th>\n",
              "      <th>Age_Category_(32.0 48.0)</th>\n",
              "    </tr>\n",
              "  </thead>\n",
              "  <tbody>\n",
              "    <tr>\n",
              "      <th>0</th>\n",
              "      <td>0.0</td>\n",
              "      <td>0.0</td>\n",
              "      <td>7.2500</td>\n",
              "      <td>0.0</td>\n",
              "      <td>0.0</td>\n",
              "      <td>0.0</td>\n",
              "      <td>0</td>\n",
              "      <td>0.0</td>\n",
              "      <td>0.0</td>\n",
              "      <td>0.0</td>\n",
              "    </tr>\n",
              "    <tr>\n",
              "      <th>1</th>\n",
              "      <td>1.0</td>\n",
              "      <td>1.0</td>\n",
              "      <td>71.2833</td>\n",
              "      <td>1.0</td>\n",
              "      <td>0.0</td>\n",
              "      <td>0.0</td>\n",
              "      <td>0</td>\n",
              "      <td>0.0</td>\n",
              "      <td>0.0</td>\n",
              "      <td>1.0</td>\n",
              "    </tr>\n",
              "    <tr>\n",
              "      <th>2</th>\n",
              "      <td>0.0</td>\n",
              "      <td>0.0</td>\n",
              "      <td>7.9250</td>\n",
              "      <td>0.0</td>\n",
              "      <td>0.0</td>\n",
              "      <td>0.0</td>\n",
              "      <td>0</td>\n",
              "      <td>0.0</td>\n",
              "      <td>0.0</td>\n",
              "      <td>0.0</td>\n",
              "    </tr>\n",
              "    <tr>\n",
              "      <th>3</th>\n",
              "      <td>1.0</td>\n",
              "      <td>1.0</td>\n",
              "      <td>53.1000</td>\n",
              "      <td>0.0</td>\n",
              "      <td>0.0</td>\n",
              "      <td>0.0</td>\n",
              "      <td>0</td>\n",
              "      <td>0.0</td>\n",
              "      <td>0.0</td>\n",
              "      <td>1.0</td>\n",
              "    </tr>\n",
              "    <tr>\n",
              "      <th>4</th>\n",
              "      <td>0.0</td>\n",
              "      <td>0.0</td>\n",
              "      <td>8.0500</td>\n",
              "      <td>0.0</td>\n",
              "      <td>0.0</td>\n",
              "      <td>0.0</td>\n",
              "      <td>0</td>\n",
              "      <td>0.0</td>\n",
              "      <td>0.0</td>\n",
              "      <td>1.0</td>\n",
              "    </tr>\n",
              "    <tr>\n",
              "      <th>...</th>\n",
              "      <td>...</td>\n",
              "      <td>...</td>\n",
              "      <td>...</td>\n",
              "      <td>...</td>\n",
              "      <td>...</td>\n",
              "      <td>...</td>\n",
              "      <td>...</td>\n",
              "      <td>...</td>\n",
              "      <td>...</td>\n",
              "      <td>...</td>\n",
              "    </tr>\n",
              "    <tr>\n",
              "      <th>886</th>\n",
              "      <td>0.0</td>\n",
              "      <td>0.0</td>\n",
              "      <td>13.0000</td>\n",
              "      <td>0.0</td>\n",
              "      <td>0.0</td>\n",
              "      <td>1.0</td>\n",
              "      <td>0</td>\n",
              "      <td>0.0</td>\n",
              "      <td>1.0</td>\n",
              "      <td>0.0</td>\n",
              "    </tr>\n",
              "    <tr>\n",
              "      <th>887</th>\n",
              "      <td>1.0</td>\n",
              "      <td>0.0</td>\n",
              "      <td>30.0000</td>\n",
              "      <td>0.0</td>\n",
              "      <td>0.0</td>\n",
              "      <td>0.0</td>\n",
              "      <td>0</td>\n",
              "      <td>1.0</td>\n",
              "      <td>0.0</td>\n",
              "      <td>0.0</td>\n",
              "    </tr>\n",
              "    <tr>\n",
              "      <th>888</th>\n",
              "      <td>0.0</td>\n",
              "      <td>0.0</td>\n",
              "      <td>23.4500</td>\n",
              "      <td>0.0</td>\n",
              "      <td>0.0</td>\n",
              "      <td>0.0</td>\n",
              "      <td>2</td>\n",
              "      <td>1.0</td>\n",
              "      <td>0.0</td>\n",
              "      <td>0.0</td>\n",
              "    </tr>\n",
              "    <tr>\n",
              "      <th>889</th>\n",
              "      <td>1.0</td>\n",
              "      <td>0.0</td>\n",
              "      <td>30.0000</td>\n",
              "      <td>1.0</td>\n",
              "      <td>0.0</td>\n",
              "      <td>0.0</td>\n",
              "      <td>0</td>\n",
              "      <td>1.0</td>\n",
              "      <td>0.0</td>\n",
              "      <td>0.0</td>\n",
              "    </tr>\n",
              "    <tr>\n",
              "      <th>890</th>\n",
              "      <td>0.0</td>\n",
              "      <td>0.0</td>\n",
              "      <td>7.7500</td>\n",
              "      <td>0.0</td>\n",
              "      <td>0.0</td>\n",
              "      <td>0.0</td>\n",
              "      <td>0</td>\n",
              "      <td>0.0</td>\n",
              "      <td>0.0</td>\n",
              "      <td>0.0</td>\n",
              "    </tr>\n",
              "  </tbody>\n",
              "</table>\n",
              "<p>891 rows × 10 columns</p>\n",
              "</div>"
            ],
            "text/plain": [
              "     Pclass_1  Fare_Category_(41.579 512.329)     Fare  Embarked_C  \\\n",
              "0         0.0                             0.0   7.2500         0.0   \n",
              "1         1.0                             1.0  71.2833         1.0   \n",
              "2         0.0                             0.0   7.9250         0.0   \n",
              "3         1.0                             1.0  53.1000         0.0   \n",
              "4         0.0                             0.0   8.0500         0.0   \n",
              "..        ...                             ...      ...         ...   \n",
              "886       0.0                             0.0  13.0000         0.0   \n",
              "887       1.0                             0.0  30.0000         0.0   \n",
              "888       0.0                             0.0  23.4500         0.0   \n",
              "889       1.0                             0.0  30.0000         1.0   \n",
              "890       0.0                             0.0   7.7500         0.0   \n",
              "\n",
              "     Age_Category_(-0.08 16.0)  Pclass_2  Parch  \\\n",
              "0                          0.0       0.0      0   \n",
              "1                          0.0       0.0      0   \n",
              "2                          0.0       0.0      0   \n",
              "3                          0.0       0.0      0   \n",
              "4                          0.0       0.0      0   \n",
              "..                         ...       ...    ...   \n",
              "886                        0.0       1.0      0   \n",
              "887                        0.0       0.0      0   \n",
              "888                        0.0       0.0      2   \n",
              "889                        0.0       0.0      0   \n",
              "890                        0.0       0.0      0   \n",
              "\n",
              "     Fare_Category_(21.558 41.579)  Fare_Category_(10.5 21.558)  \\\n",
              "0                              0.0                          0.0   \n",
              "1                              0.0                          0.0   \n",
              "2                              0.0                          0.0   \n",
              "3                              0.0                          0.0   \n",
              "4                              0.0                          0.0   \n",
              "..                             ...                          ...   \n",
              "886                            0.0                          1.0   \n",
              "887                            1.0                          0.0   \n",
              "888                            1.0                          0.0   \n",
              "889                            1.0                          0.0   \n",
              "890                            0.0                          0.0   \n",
              "\n",
              "     Age_Category_(32.0 48.0)  \n",
              "0                         0.0  \n",
              "1                         1.0  \n",
              "2                         0.0  \n",
              "3                         1.0  \n",
              "4                         1.0  \n",
              "..                        ...  \n",
              "886                       0.0  \n",
              "887                       0.0  \n",
              "888                       0.0  \n",
              "889                       0.0  \n",
              "890                       0.0  \n",
              "\n",
              "[891 rows x 10 columns]"
            ]
          },
          "execution_count": 64,
          "metadata": {},
          "output_type": "execute_result"
        }
      ],
      "source": [
        "X_train"
      ]
    },
    {
      "cell_type": "code",
      "execution_count": 65,
      "metadata": {
        "id": "d6iYsP3uLDk3"
      },
      "outputs": [],
      "source": [
        "import xgboost as xgb\n",
        "\n",
        "xgb_clf = xgb.XGBClassifier(random_state=42)\n",
        "xgb_clf_cv_scores = cross_val_score(xgb_clf, X_train, Y_train, cv=5, scoring=\"f1\")\n",
        "\n",
        "xgb_clf_mean = np.mean(xgb_clf_cv_scores)\n",
        "xgb_clf_std = np.std(xgb_clf_cv_scores)"
      ]
    },
    {
      "cell_type": "code",
      "execution_count": 66,
      "metadata": {
        "id": "8V40uh3RLGXz"
      },
      "outputs": [
        {
          "name": "stdout",
          "output_type": "stream",
          "text": [
            "Stochastic Gradient Descent (SGD): 0.27826816617068767 - 0.32378554778554774\n",
            "LogisticRegression: 0.10691436309142201 - 0.5282313716672686\n",
            "Support Vector Machine (kernel='linear' parameter): 0.6712635741635804 - 0.05261551915441239\n",
            "Support Vector Machine (kernel = 'rbf' parameter): 0.6667629150712447 - 0.04579722211353884\n",
            "DecisionTreeClassifier: 0.5240268373706152 - 0.03480581002500377\n",
            "RandomForestClassifier: 0.5580003852618388 - 0.0649117844877872\n",
            "ExtraTreesClassifier: 0.527697054252512 - 0.047413977929874465\n",
            "AdaBoostClassifier: 0.5325756251036834 - 0.0591476770078888\n",
            "GradientBoostingClassifier: 0.5714047974013793 - 0.047793637915785156\n",
            "XGBoost: 0.5634273768346348 - 0.06064694275468078\n"
          ]
        }
      ],
      "source": [
        "print(\"Stochastic Gradient Descent (SGD): \" + str(sgd_mean) + \" - \"  + str(sgd_std))\n",
        "print(\"LogisticRegression: \" + str(logr_mean) + \" - \" + str(logr_std))\n",
        "print(\"Support Vector Machine (kernel='linear' parameter): \" + str(svm_lin_mean) + \" - \" + str(svm_lin_std))\n",
        "print(\"Support Vector Machine (kernel = 'rbf' parameter): \" + str(svm_rbf_mean) + \" - \" + str(svm_rbf_std))\n",
        "print(\"DecisionTreeClassifier: \" + str(dtc_mean) + \" - \"  + str(dtc_std))\n",
        "print(\"RandomForestClassifier: \" + str(rfc_mean) + \" - \"  + str(rfc_std))\n",
        "print(\"ExtraTreesClassifier: \" + str(etc_mean) + \" - \"  + str(etc_std))\n",
        "print(\"AdaBoostClassifier: \" + str(abc_mean) + \" - \"  + str(abc_std))\n",
        "print(\"GradientBoostingClassifier: \" + str(gbc_mean) + \" - \"  + str(gbc_std))\n",
        "print(\"XGBoost: \" + str(xgb_clf_mean) + \" - \"  + str(xgb_clf_std))\n",
        "\n",
        "#wow that is yucky looking huh 0.o"
      ]
    },
    {
      "cell_type": "markdown",
      "metadata": {
        "id": "DGs_oQ8BXRrv"
      },
      "source": [
        "### Select the top 3 best performing classifiers. List them along with their mean and std scores. For these top 3 best performing classifiers, find the best hyperparameters using GridSearchCV.\n",
        "\n",
        "\n",
        "- Use estimator.get_params().keys() or the API description of the classifiers to find out which hyperparameters you can use. \n",
        "- Use the same scoring parameter ('f1') and use cv = 10 this time. \n",
        "- Print out the best_estimator_ and best_score_ results of your Grid Search\n",
        "- Use the following hyparparameter options if they fit for your top 3 classifiers:\n",
        "\n",
        "n_estimators = [300, 400, 500]\n",
        "\n",
        "learning_rate = [0.3, 0.1, 0.05]\n",
        "\n",
        "max_features =  [1, 0.5, 0.3]\n",
        "\n",
        "subsample = [1, 0.5, 0.3]\n",
        "\n",
        "max_samples = [1, 0.5, 0.3]\n",
        "\n",
        "bootstrap = [True,False]"
      ]
    },
    {
      "cell_type": "markdown",
      "metadata": {
        "id": "yczTpBY4XkIY"
      },
      "source": [
        "The following classifiers are selected because of their high performance:\n",
        "\n",
        "random_forest_classifier: \n",
        "- mean():  xxx\n",
        "- std():  yyy\n",
        "\n",
        "gradient_boosting_classifier: \n",
        "- mean():  xx\n",
        "- std():  yy\n",
        "\n",
        "XGB_classifier: \n",
        "- mean():  x\n",
        "- std():  y"
      ]
    },
    {
      "cell_type": "code",
      "execution_count": 88,
      "metadata": {
        "id": "X-X1e9GCXmU3"
      },
      "outputs": [
        {
          "name": "stdout",
          "output_type": "stream",
          "text": [
            "Best estimator for GradientBoostingClassifier:\n",
            "GradientBoostingClassifier(max_features=1, n_estimators=400, random_state=42,\n",
            "                           subsample=1)\n",
            "Best score: 0.5894459516416413\n",
            "\n"
          ]
        },
        {
          "name": "stderr",
          "output_type": "stream",
          "text": [
            "/home/jiffy/.local/lib/python3.10/site-packages/sklearn/model_selection/_validation.py:378: FitFailedWarning: \n",
            "270 fits failed out of a total of 540.\n",
            "The score on these train-test partitions for these parameters will be set to nan.\n",
            "If these failures are not expected, you can try to debug them by setting error_score='raise'.\n",
            "\n",
            "Below are more details about the failures:\n",
            "--------------------------------------------------------------------------------\n",
            "270 fits failed with the following error:\n",
            "Traceback (most recent call last):\n",
            "  File \"/home/jiffy/.local/lib/python3.10/site-packages/sklearn/model_selection/_validation.py\", line 686, in _fit_and_score\n",
            "    estimator.fit(X_train, y_train, **fit_params)\n",
            "  File \"/home/jiffy/.local/lib/python3.10/site-packages/sklearn/ensemble/_forest.py\", line 397, in fit\n",
            "    raise ValueError(\n",
            "ValueError: `max_sample` cannot be set if `bootstrap=False`. Either switch to `bootstrap=True` or set `max_sample=None`.\n",
            "\n",
            "  warnings.warn(some_fits_failed_message, FitFailedWarning)\n",
            "/home/jiffy/.local/lib/python3.10/site-packages/sklearn/model_selection/_search.py:952: UserWarning: One or more of the test scores are non-finite: [0.         0.         0.         0.58150017 0.58168624 0.58685467\n",
            " 0.57713712 0.58067386 0.5770609  0.         0.         0.\n",
            " 0.58252452 0.58152259 0.58092693 0.56225864 0.57169202 0.57429912\n",
            " 0.         0.         0.         0.58138127 0.58567987 0.58606108\n",
            " 0.5735675  0.58074555 0.57597759        nan        nan        nan\n",
            "        nan        nan        nan        nan        nan        nan\n",
            "        nan        nan        nan        nan        nan        nan\n",
            "        nan        nan        nan        nan        nan        nan\n",
            "        nan        nan        nan        nan        nan        nan]\n",
            "  warnings.warn(\n"
          ]
        },
        {
          "name": "stdout",
          "output_type": "stream",
          "text": [
            "Best estimator for RandomForestClassifier:\n",
            "RandomForestClassifier(max_features=1, max_samples=0.5, n_estimators=500,\n",
            "                       random_state=42)\n",
            "Best score: 0.58685467441644\n",
            "\n",
            "Best estimator for XGBClassifier:\n",
            "XGBClassifier(base_score=None, booster=None, callbacks=None,\n",
            "              colsample_bylevel=None, colsample_bynode=None,\n",
            "              colsample_bytree=None, early_stopping_rounds=None,\n",
            "              enable_categorical=False, eval_metric=None, feature_types=None,\n",
            "              gamma=None, gpu_id=None, grow_policy=None, importance_type=None,\n",
            "              interaction_constraints=None, learning_rate=0.05, max_bin=None,\n",
            "              max_cat_threshold=None, max_cat_to_onehot=None,\n",
            "              max_delta_step=None, max_depth=None, max_leaves=None,\n",
            "              min_child_weight=None, missing=nan, monotone_constraints=None,\n",
            "              n_estimators=400, n_jobs=None, num_parallel_tree=None,\n",
            "              predictor=None, random_state=42, ...)\n",
            "Best score: 0.575948924926045\n",
            "\n"
          ]
        }
      ],
      "source": [
        "from sklearn.model_selection import GridSearchCV\n",
        "\n",
        "gbc_hyper = {\n",
        "    \"n_estimators\": [300, 400, 500],\n",
        "    \"learning_rate\": [0.3, 0.1, 0.05],\n",
        "    \"max_features\": [1, 0.5, 0.3],\n",
        "    \"subsample\": [1, 0.5, 0.3]}\n",
        "\n",
        "rfc_hyper = {\n",
        "    \"n_estimators\": [300, 400, 500],\n",
        "    \"max_features\": [1, 0.5, 0.3],\n",
        "    \"bootstrap\": [True, False],\n",
        "    \"max_samples\": [1, 0.5, 0.3]}\n",
        "\n",
        "xgb_hyper = {\n",
        "    \"n_estimators\": [300, 400, 500],\n",
        "    \"learning_rate\": [0.3, 0.1, 0.05],\n",
        "    \"subsample\": [1, 0.5, 0.3]}\n",
        "\n",
        "classifiers_list = [\n",
        "    (GradientBoostingClassifier(random_state=42), gbc_hyper),\n",
        "    (RandomForestClassifier(random_state=42), rfc_hyper),\n",
        "    (xgb.XGBClassifier(random_state=42), xgb_hyper)]\n",
        "\n",
        "best_list = []\n",
        "\n",
        "for classifiers, paramters in classifiers_list:\n",
        "    grid_search = GridSearchCV(classifiers, paramters, scoring=\"f1\", cv=10, n_jobs=-1)\n",
        "    grid_search.fit(X_train, Y_train)\n",
        "    \n",
        "    print(f\"Best estimator for {classifiers.__class__.__name__}:\")\n",
        "    print(grid_search.best_estimator_)\n",
        "    best_list.append(grid_search.best_estimator_)\n",
        "    print(\"Best score: \" + str(grid_search.best_score_) + \"\\n\")\n",
        "\n"
      ]
    },
    {
      "cell_type": "markdown",
      "metadata": {
        "id": "WELqPyMCZcPP"
      },
      "source": [
        "### Use the VotingClassifier you created above to predict 'Survived' for the X_test."
      ]
    },
    {
      "cell_type": "code",
      "execution_count": null,
      "metadata": {},
      "outputs": [],
      "source": [
        "from sklearn.ensemble import VotingClassifier\n",
        "\n",
        "VotingPredictor = VotingClassifier(estimators =\n",
        "                           [('gbc', best_list[0]),\n",
        "                            ('rfc', best_list[1]), \n",
        "                            ('xgb', best_list[2])],\n",
        "                           voting='soft', n_jobs = -1)\n",
        "\n",
        "VotingPredictor = VotingPredictor.fit(X_train, Y_train)\n",
        "\n",
        "\n",
        "voting_scores = cross_val_score(VotingPredictor, X_train, Y_train, cv = 10, n_jobs = -1)\n",
        "print(voting_scores.mean())\n",
        "print(voting_scores.std())"
      ]
    },
    {
      "cell_type": "code",
      "execution_count": 84,
      "metadata": {
        "id": "gYFCrbe8Zbam"
      },
      "outputs": [],
      "source": [
        "from numpy import random\n",
        "\n",
        "\n",
        "TestPassengerID = test_data['PassengerId']\n",
        "\n",
        "Predictive_Model = pd.DataFrame({\n",
        "        \"PassengerId\": TestPassengerID,\n",
        "        \"Survived\": VotingPredictor.predict(X_test)})\n",
        "\n",
        "Predictive_Model.to_csv('titanic_model_predictions.csv', index=False)"
      ]
    },
    {
      "cell_type": "markdown",
      "metadata": {
        "id": "O4WEPxW4Zo3N"
      },
      "source": [
        "### Prepare a csv file to submit to kaggle.com. Submit it and then put your results here."
      ]
    },
    {
      "attachments": {},
      "cell_type": "markdown",
      "metadata": {},
      "source": []
    }
  ],
  "metadata": {
    "colab": {
      "provenance": []
    },
    "kernelspec": {
      "display_name": "Python 3",
      "language": "python",
      "name": "python3"
    },
    "language_info": {
      "codemirror_mode": {
        "name": "ipython",
        "version": 3
      },
      "file_extension": ".py",
      "mimetype": "text/x-python",
      "name": "python",
      "nbconvert_exporter": "python",
      "pygments_lexer": "ipython3",
      "version": "3.10.10"
    },
    "nav_menu": {},
    "toc": {
      "navigate_menu": true,
      "number_sections": true,
      "sideBar": true,
      "threshold": 6,
      "toc_cell": false,
      "toc_section_display": "block",
      "toc_window_display": false
    },
    "vscode": {
      "interpreter": {
        "hash": "e7370f93d1d0cde622a1f8e1c04877d8463912d04d973331ad4851f04de6915a"
      }
    }
  },
  "nbformat": 4,
  "nbformat_minor": 0
}
