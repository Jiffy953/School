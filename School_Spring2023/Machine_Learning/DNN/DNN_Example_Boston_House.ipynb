{
  "cells": [
    {
      "cell_type": "markdown",
      "metadata": {
        "id": "Q_Pym0AqediT"
      },
      "source": [
        "The Boston housing dataset\n",
        "For the Boston housing dataset, we get 506 rows of data, with 13 features in each. Our task is to build a regression model that takes these 13 features as input and output a single value prediction of the \"median value of owner-occupied homes (in $1000).\"\n",
        "\n",
        "\n",
        "NOTE: The Boston housing prices dataset has a noted ethical problem: the authors of this dataset engineered a non-invertible variable “B” assuming that racial self-segregation had a positive impact on house prices."
      ]
    },
    {
      "cell_type": "code",
      "execution_count": 15,
      "metadata": {
        "id": "TN5v2Pufe1iN"
      },
      "outputs": [
        {
          "ename": "SyntaxError",
          "evalue": "invalid syntax (2136487627.py, line 4)",
          "output_type": "error",
          "traceback": [
            "\u001b[0;36m  Cell \u001b[0;32mIn[15], line 4\u001b[0;36m\u001b[0m\n\u001b[0;31m    from keras import keras.utils.custom_object_scope\u001b[0m\n\u001b[0m                           ^\u001b[0m\n\u001b[0;31mSyntaxError\u001b[0m\u001b[0;31m:\u001b[0m invalid syntax\n"
          ]
        }
      ],
      "source": [
        "from keras.models import Sequential\n",
        "from keras.layers import Dense, Input\n",
        "from keras.optimizers.adamw import AdamW\n",
        "\n",
        "\n",
        "\n",
        "from keras_visualizer import visualizer\n",
        "from IPython.display import Image\n",
        "\n",
        "from keras.datasets import boston_housing, reuters\n",
        "from keras.optimizers import *\n",
        "from keras.metrics import *\n",
        "\n",
        "import matplotlib.pyplot as plt\n",
        "import numpy as np\n",
        "import pandas as pd"
      ]
    },
    {
      "cell_type": "markdown",
      "metadata": {
        "id": "OGKJF7Vhei3D"
      },
      "source": [
        "#### **Step #1: Import and split the data into a train/test set**"
      ]
    },
    {
      "cell_type": "code",
      "execution_count": 3,
      "metadata": {
        "colab": {
          "base_uri": "https://localhost:8080/"
        },
        "id": "6te-hw_jeSEk",
        "outputId": "7477a037-9824-41eb-a8b8-593ab6f9e0a8"
      },
      "outputs": [
        {
          "name": "stdout",
          "output_type": "stream",
          "text": [
            "Downloading data from https://storage.googleapis.com/tensorflow/tf-keras-datasets/boston_housing.npz\n",
            "57026/57026 [==============================] - 0s 1us/step\n"
          ]
        }
      ],
      "source": [
        "(x_train, y_train), (x_test, y_test) = boston_housing.load_data()"
      ]
    },
    {
      "cell_type": "code",
      "execution_count": 4,
      "metadata": {
        "colab": {
          "base_uri": "https://localhost:8080/"
        },
        "id": "8Q4YYzV3e7IR",
        "outputId": "81d64474-6cf2-4cf8-fa99-c83f64050924"
      },
      "outputs": [
        {
          "data": {
            "text/plain": [
              "(404, 13)"
            ]
          },
          "execution_count": 4,
          "metadata": {},
          "output_type": "execute_result"
        }
      ],
      "source": [
        "x_train.shape"
      ]
    },
    {
      "cell_type": "markdown",
      "metadata": {
        "id": "OJ_uRhhbfEkm"
      },
      "source": [
        "#### **Steps Initialize NN and Add Input Layer**"
      ]
    },
    {
      "cell_type": "code",
      "execution_count": 5,
      "metadata": {
        "id": "AYhhOA4afG0Q"
      },
      "outputs": [],
      "source": [
        "# Build the model\n",
        "model = Sequential()\n",
        "\n",
        "# Input Layer\n",
        "model.add(Input(x_train.shape[1]))"
      ]
    },
    {
      "cell_type": "markdown",
      "metadata": {
        "id": "lWL8tA6gfPGV"
      },
      "source": [
        "Now, complete the NN as follows and then visualize it:\n",
        "* one hidden layer of size 20 with activation: `\"relu\"`\n",
        "* the output layer of size 1 with activation: `\"linear\"` (so that we can get a range of values out, as needed by regression)"
      ]
    },
    {
      "cell_type": "code",
      "execution_count": 20,
      "metadata": {
        "colab": {
          "base_uri": "https://localhost:8080/",
          "height": 436
        },
        "id": "R9fCsUP7fUPe",
        "outputId": "22454165-76b0-4f6b-994d-52aadab6ed2d"
      },
      "outputs": [],
      "source": [
        "# Hidden Layer\n",
        "model.add(Dense(20, activation='relu'))\n",
        "\n",
        "# Output Layer\n",
        "model.add(Dense(1, activation='linear'))\n",
        "\n",
        "# Visualizing the network\n",
        "#visualizer(model, view = True)\n"
      ]
    },
    {
      "cell_type": "markdown",
      "metadata": {
        "id": "vapyLs3Jf9gg"
      },
      "source": [
        "## Fit the model\n",
        "- Set which optimizer you'd like to use to update the weights. We will use the Keras Adam Optimizer with a learning rate of 0.001.\n",
        "- Compile the model. This is where we configure the model for training, inluding the loss function for optimization and the metric for evaluation after training. We will use the \"mean_squared_error\" for the loss and the mse (also the mean squared error) as our evaluation metric since this is a regression problem.\n",
        "- Lastly we need to fit our model to the data. At this point we must set the number of training epochs, which is how many times we want to update the model.\n",
        "\n",
        "Note: There are many calculations needed to train a neural network and it may take a few minutes. "
      ]
    },
    {
      "cell_type": "code",
      "execution_count": 21,
      "metadata": {
        "id": "HLctYu7OgHS9"
      },
      "outputs": [],
      "source": [
        "# Set the Optimizer and Learning Rate\n",
        "opt = Adam(learning_rate=0.001)\n",
        "\n",
        "# Compile the DNN\n",
        "model.compile(optimizer=opt, \n",
        "              loss='mean_squared_error', \n",
        "              metrics = [mse])\n",
        "\n",
        "# Fit the model\n",
        "training_history = model.fit(x_train, y_train, epochs=1000, verbose=False)"
      ]
    },
    {
      "cell_type": "code",
      "execution_count": 11,
      "metadata": {
        "id": "FFADWa9azTuR"
      },
      "outputs": [],
      "source": [
        "# Set the Optimizer and Learning Rate\n",
        "# opt = SGD(learning_rate=0.001)\n",
        "\n",
        "# Compile the DNN\n",
        "# model.compile(optimizer=opt,  loss='mean_absolute_percentage_error', metrics = [mse])\n",
        "\n",
        "# Fit the model\n",
        "# training_history = model.fit(x_train, y_train, epochs=500, verbose=False)"
      ]
    },
    {
      "cell_type": "markdown",
      "metadata": {
        "id": "L1cfVnOhgKSx"
      },
      "source": [
        "## Evaluate and test the model¶\n",
        "After training our models, it's always important to get a sense of how well they've learned. So, let's evaluate and test our model! Specifically,\n",
        "\n",
        "Evaluate the model on the test set\n",
        "Plot the actual vs. predicted values"
      ]
    },
    {
      "cell_type": "code",
      "execution_count": 23,
      "metadata": {
        "colab": {
          "base_uri": "https://localhost:8080/"
        },
        "id": "hoC53LeUgOFX",
        "outputId": "0b8f83fd-f052-418e-b30d-029ea976334a"
      },
      "outputs": [
        {
          "name": "stdout",
          "output_type": "stream",
          "text": [
            "4/4 [==============================] - 0s 875us/step - loss: 27.4613 - mean_squared_error: 27.4613\n"
          ]
        },
        {
          "data": {
            "text/plain": [
              "[27.461257934570312, 27.461257934570312]"
            ]
          },
          "execution_count": 23,
          "metadata": {},
          "output_type": "execute_result"
        }
      ],
      "source": [
        "model.evaluate(x_test, y_test)"
      ]
    },
    {
      "cell_type": "markdown",
      "metadata": {
        "id": "-Mz4XFvwgUPW"
      },
      "source": [
        "## Plot the actual vs. predicted value"
      ]
    },
    {
      "cell_type": "code",
      "execution_count": 16,
      "metadata": {
        "colab": {
          "base_uri": "https://localhost:8080/",
          "height": 490
        },
        "id": "xgvMfTjjgXZB",
        "outputId": "c63f1fc9-72b0-4d7d-b403-d6e09779e538"
      },
      "outputs": [
        {
          "name": "stdout",
          "output_type": "stream",
          "text": [
            "4/4 [==============================] - 0s 4ms/step\n"
          ]
        },
        {
          "data": {
            "image/png": "[encoded data removed]",
            "text/plain": [
              "<Figure size 640x480 with 1 Axes>"
            ]
          },
          "metadata": {},
          "output_type": "display_data"
        }
      ],
      "source": [
        "plt.scatter(y_test, model.predict(x_test))\n",
        "plt.plot([y_test.min(), y_test.max()], [y_test.min(), y_test.max()], color = 'black')\n",
        "\n",
        "plt.xlabel(\"Actual prices\")\n",
        "plt.ylabel(\"Predicted prices\")\n",
        "plt.title(\"Prices vs Predicted prices\")\n",
        "\n",
        "plt.show()"
      ]
    }
  ],
  "metadata": {
    "colab": {
      "provenance": []
    },
    "kernelspec": {
      "display_name": "Python 3",
      "name": "python3"
    },
    "language_info": {
      "name": "python"
    }
  },
  "nbformat": 4,
  "nbformat_minor": 0
}
